{
 "cells": [
  {
   "cell_type": "code",
   "execution_count": 18,
   "metadata": {},
   "outputs": [
    {
     "name": "stdout",
     "output_type": "stream",
     "text": [
      "3 7\n",
      "32 62\n",
      "42 68\n",
      "12 98\n",
      "95 13\n",
      "97 25\n",
      "93 37\n",
      "79 27\n",
      "75 19\n",
      "49 47\n",
      "67 17\n",
      "deque([2, 3, 4, 5, 6, 7]) {1: 0, 2: 1, 3: 1, 4: 1, 5: 1, 6: 1, 7: 1}\n",
      "deque([3, 4, 5, 6, 7, 8]) {1: 0, 2: 1, 3: 1, 4: 1, 5: 1, 6: 1, 7: 1, 8: 2}\n",
      "deque([4, 5, 6, 7, 8, 9]) {1: 0, 2: 1, 3: 1, 4: 1, 5: 1, 6: 1, 7: 1, 8: 2, 9: 2}\n",
      "deque([5, 6, 7, 8, 9, 10]) {1: 0, 2: 1, 3: 1, 4: 1, 5: 1, 6: 1, 7: 1, 8: 2, 9: 2, 10: 2}\n",
      "deque([6, 7, 8, 9, 10, 11]) {1: 0, 2: 1, 3: 1, 4: 1, 5: 1, 6: 1, 7: 1, 8: 2, 9: 2, 10: 2, 11: 2}\n",
      "deque([7, 8, 9, 10, 11, 98]) {1: 0, 2: 1, 3: 1, 4: 1, 5: 1, 6: 1, 7: 1, 8: 2, 9: 2, 10: 2, 11: 2, 12: 2, 98: 2}\n",
      "deque([8, 9, 10, 11, 98, 13]) {1: 0, 2: 1, 3: 1, 4: 1, 5: 1, 6: 1, 7: 1, 8: 2, 9: 2, 10: 2, 11: 2, 12: 2, 98: 2, 13: 2}\n",
      "deque([9, 10, 11, 98, 13, 14]) {1: 0, 2: 1, 3: 1, 4: 1, 5: 1, 6: 1, 7: 1, 8: 2, 9: 2, 10: 2, 11: 2, 12: 2, 98: 2, 13: 2, 14: 3}\n",
      "deque([10, 11, 98, 13, 14, 15]) {1: 0, 2: 1, 3: 1, 4: 1, 5: 1, 6: 1, 7: 1, 8: 2, 9: 2, 10: 2, 11: 2, 12: 2, 98: 2, 13: 2, 14: 3, 15: 3}\n",
      "deque([11, 98, 13, 14, 15, 16]) {1: 0, 2: 1, 3: 1, 4: 1, 5: 1, 6: 1, 7: 1, 8: 2, 9: 2, 10: 2, 11: 2, 12: 2, 98: 2, 13: 2, 14: 3, 15: 3, 16: 3}\n",
      "deque([98, 13, 14, 15, 16, 17]) {1: 0, 2: 1, 3: 1, 4: 1, 5: 1, 6: 1, 7: 1, 8: 2, 9: 2, 10: 2, 11: 2, 12: 2, 98: 2, 13: 2, 14: 3, 15: 3, 16: 3, 17: 3}\n",
      "deque([13, 14, 15, 16, 17, 99, 100]) {1: 0, 2: 1, 3: 1, 4: 1, 5: 1, 6: 1, 7: 1, 8: 2, 9: 2, 10: 2, 11: 2, 12: 2, 98: 2, 13: 2, 14: 3, 15: 3, 16: 3, 17: 3, 99: 3, 100: 3}\n",
      "3\n"
     ]
    }
   ],
   "source": [
    "from collections import deque\n",
    "\n",
    "def run(sl) :\n",
    "    ans = 0\n",
    "    visited = {1:0}\n",
    "    que = deque([1])\n",
    "    \n",
    "    while que :\n",
    "        now = que.popleft()\n",
    "        for i in range(1, 7) :\n",
    "            new = now + i\n",
    "            if new > 100 : \n",
    "                continue\n",
    "            if new not in visited :\n",
    "                if new not in sl :\n",
    "                    visited[new] = visited[now] + 1\n",
    "                    que.append(new)\n",
    "                else :\n",
    "                    visited[new] = visited[now] + 1\n",
    "                    que.append(sl[new])\n",
    "                    visited[sl[new]] = visited[now] + 1\n",
    "        #print(que, visited)\n",
    "        if 100 in visited :\n",
    "            #print(visited[100])\n",
    "            return\n",
    "    \n",
    "\n",
    "N, M = map(int, input().split())\n",
    "sl = {} #snake, ladder\n",
    "for _ in range(N+M) :\n",
    "    a, b = map(int, input().split())\n",
    "    sl[a] = b\n",
    "\n",
    "run(sl)\n",
    "#print(visited)"
   ]
  },
  {
   "cell_type": "code",
   "execution_count": null,
   "metadata": {},
   "outputs": [],
   "source": []
  }
 ],
 "metadata": {
  "kernelspec": {
   "display_name": "Python 3",
   "language": "python",
   "name": "python3"
  },
  "language_info": {
   "codemirror_mode": {
    "name": "ipython",
    "version": 3
   },
   "file_extension": ".py",
   "mimetype": "text/x-python",
   "name": "python",
   "nbconvert_exporter": "python",
   "pygments_lexer": "ipython3",
   "version": "3.7.3"
  }
 },
 "nbformat": 4,
 "nbformat_minor": 2
}
