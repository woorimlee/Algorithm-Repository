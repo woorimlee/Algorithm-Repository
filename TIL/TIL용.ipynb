{
  "nbformat": 4,
  "nbformat_minor": 0,
  "metadata": {
    "colab": {
      "name": "TIL용.ipynb",
      "provenance": [],
      "collapsed_sections": [],
      "toc_visible": true,
      "authorship_tag": "ABX9TyPIOBoUXus+guLQGRdMeJzG",
      "include_colab_link": true
    },
    "kernelspec": {
      "name": "python3",
      "display_name": "Python 3"
    }
  },
  "cells": [
    {
      "cell_type": "markdown",
      "metadata": {
        "id": "view-in-github",
        "colab_type": "text"
      },
      "source": [
        "<a href=\"https://colab.research.google.com/github/woorimlee/Algorithm-Repository/blob/master/TIL/TIL%EC%9A%A9.ipynb\" target=\"_parent\"><img src=\"https://colab.research.google.com/assets/colab-badge.svg\" alt=\"Open In Colab\"/></a>"
      ]
    },
    {
      "cell_type": "markdown",
      "metadata": {
        "id": "ms6ynymeI8rX"
      },
      "source": [
        "- - -\n",
        "2020.12.07 \n",
        "### OS 개론 \n",
        "\n",
        "### OS 역할 \n",
        "1. 시스템 자원(System Resource) 관리자\n",
        "2. 사용자와 컴퓨터간의 커뮤니케이션 지원\n",
        "3. 컴퓨터 하드웨어와 프로그램을 제어\n",
        "\n",
        "### Syscall & API\n",
        "* 응용 프로그램을 위한 인터페이스를 제공. API(Application Programming Interface)\n",
        "    * 보통은 library 형태로 제공. (printf같은 함수를 사용하기 위한 stdio)\n",
        "* syscall : 시스템콜은 운영체제가 하드웨어의 각 기능을 사용할 수 있도록 제공하는 명령어. API 내부에서 실행되는 경우가 대부분\n",
        "    * POSIX API(시스템콜 정의 대표 예, UNIX 계열), Windows API"
      ]
    },
    {
      "cell_type": "markdown",
      "metadata": {
        "id": "T-RQ3WDNPtua"
      },
      "source": [
        "- - -\n",
        "2020.12.08\n",
        "### 운영체제 구조\n",
        "* CPU Protection Rings\n",
        "    * 함부로 응용 프로그램이 전체 컴퓨터 시스템을 망치지 못하도록 하기 위해 등장한 개념.\n",
        "    * 인텔 CPU 기준 네 가지 모드(Ring)을 지원. Kernel 영역부터 Device drivers를 지나 Applications 영역까지 네 개의 영역 중 보통 Ring 0인 Kerner mode와 Ring 3인 User mode를 대표적으로 이해하면 된다.\n",
        "    * kernel mode : 메모리, 디스크, 네트워크 자원 등 커널 영역의 자원을 쓰기 위한 level\n",
        "    * user mode : 응용 프로그램 단계에서 시스템 자원을 쓰기 위해 syscall을 호출하기 위한 level\n",
        "\n",
        "\n",
        "### 프로세스 스케줄링 \n",
        "1. 배치 처리 시스템 : 단일 CPU, FIFO 구조\n",
        "2. 시분할 시스템 : 다중 사용자 지원을 위해 Time Slice로 각 프로세스 분할 할당\n",
        "    * 멀티 태스킹 : 단일 CPU에서 여러 프로그램이 동시에 실행되는 것처럼 보이도록 만드는 개념\n",
        "3. 멀티 프로그래밍 : 최대한 CUP를 많이 활용할 수 있도록 CPU 할당\n",
        "    * 멀티 프로세싱 : 다중 CPU를 이용해 JOB 여러 개를 동시에 분할 처리\n",
        "* 응용 프로그램 입장에선 I/O 작업 등의 이유로 온전히 CPU를 이용하지 못함. 따라서 멀티 프로세싱, 시분할 시스템 등이 도입되어야 함.\n",
        "    * 궁극적인 목적은 여러 응용 프로그램이 동시에 실행되거나 실행되는 것처럼 보이게 하는것, CPU를 쉬지 않게 응용 프로그램을 배치하여 응답 시간, 반환 시간을 단축하는 것, 다중 사용자가 프로그램을 동시에 실행할 수 잇는 것."
      ]
    },
    {
      "cell_type": "markdown",
      "metadata": {
        "id": "5UugBTN3wkvH"
      },
      "source": [
        "- - -\r\n",
        "2020.12.09\r\n",
        "### 스케줄링 기법\r\n",
        "1. FIFO : FCFS. 기존의 배치시스템에서 Queue를 이용해 사용했었음.\r\n",
        "2. SJF : 최단 작업 우선 스케줄러. \r\n",
        "3. Priority-Based : 두 종류가 있음.\r\n",
        "    * 정적 우선순위 : 프로세스마다 우선순위를 미리 지정\r\n",
        "    * 동적 우선순위 : 스케줄러가 상황에 따라 우선순위를 동적으로 변경\r\n",
        "4. RR : Round Robin. FIFO + Time Slice. \r\n",
        "\r\n",
        "### 프로세스 상태와 스케줄링\r\n",
        "* 멀티 프로그래밍과 Wait\r\n",
        "    * 멀티 프로그래밍 : CPU 활용도를 극대화하는 스케줄링 알고리즘.\r\n",
        "    * Wait : 간단히 저장매체로부터 파일 읽기를 기다리는 시간으로 가정.\r\n",
        "    * 아래 사진에서 Combined는 스케줄러가 할 일.\r\n",
        "\r\n",
        "* 프로세스 상태 : \r\n",
        "    * running state : 현재 CPU에서 실행 상태\r\n",
        "    * ready state : ready 상태로 CPU 할당을 기다리는 실행 가능한 상태\r\n",
        "    * block(wait) state : 특정 이벤트, I/O 결과를 대기하는 상태\r\n",
        "    * new state : 하드디스크에서 주메모리로 올라가기 위해 준비하는 상태\r\n",
        "    * exit : 프로세스가 종료되며, 오픈한 파일 등의 시스템 리소스 등을 해제하기 위한 상태\r\n",
        "    * 이 상태들 중 running, ready, block에는 각각의 queue를 만들어 cpu 스케줄링에 사용한다. (단기 스케줄링)"
      ]
    },
    {
      "cell_type": "markdown",
      "metadata": {
        "id": "J3c3Ac1zP47Q"
      },
      "source": [
        "- - -\r\n",
        "2020.12.10\r\n",
        "### 선졈형, 비선점형 스케줄링\r\n",
        "* Preemptive : running state에 있는 프로세스보다 더 우선순위가 높은 프로세스가 ready state에 있을 시 스케줄러 기법에 따라 문맥 교환 발생\r\n",
        "* Non-preemptive : 하나의 프로세스가 끝나지 않으면, 다른 프로세스는 CPU를 사용할 수 없음.\r\n",
        "\r\n",
        "### 인터럽트 \r\n",
        "* Interrupt : CPU가 프로그램을 실행하고 있을 때, 내부(SW) 혹은 외부(HW) 인터럽트 발생시 커널 모드에서 OS가 특정 처리를 한 뒤 다시 프로세스를 실행하는 기술.\r\n",
        "    * 필요한 이유 : 선점형 스케줄러 구현시, I/O 디바이스와의 커뮤니케이션시, 예외 상황 핸들링시\r\n",
        "    * 내부 인터럽트 : Software Interrupt. 프로그램 내부에서 잘못된 명령, 잘못된 데이터 사용시 발생 (0으로 나누기, 사용자 모드에서 커널 메모리 영역으로 접근, overflow 등)\r\n",
        "    * 외부 인터럽트 : Hardware interrupt. 프로그램 외부를 뜻함. 하드웨어에서 발생하는 이벤트(전원 이상, 주변 기기 문제, I/O 이벤트, Timer 이벤트)\r\n",
        "\r\n",
        "* 인터럽트와 IDT(Interrupt Descriptor Table) \r\n",
        "    * 인터럽트는 미리 정의되어 각 번호(이벤트)에 따른 실행할 코드를 가리킬 주소가 IDT(테이블)에 기록(mapping)되어 있음.\r\n",
        "    * 운영체제 내부의 코드가 컴퓨터 부팅시 운영체제에 의해 기록됨.\r\n",
        "    * 리눅스의 예 \r\n",
        "        * 0 ~ 31 : 예외상황(내부, SW) 인터럽트. 일부는 정의 안 됨\r\n",
        "        * 32 ~ 47 : 하드웨어 인터럽트. 주변 장치 갯수나 종류에 의해 변경 가능\r\n",
        "        * 128 : system call. 0x80\r\n",
        "\r\n",
        "* 시스템 콜 인터럽트\r\n",
        "    * system call 실행을 위해서는 코드에 인터럽트 명령을 넣어 system call을 실행시켜야 한다.\r\n",
        "    * 시스템 콜 실제 코드\r\n",
        "    ```\r\n",
        "    mov eax, 1\r\n",
        "    mov ebx, 0\r\n",
        "    int 0x80 // 0x80은 시스템콜의 번호를 의미\r\n",
        "    ```\r\n",
        "        * eax 레지스터에 시스템 콜 번호를 넣고,\r\n",
        "        * ebx 레지스터에는 시스템 콜에 해당하하는 인자값을 넣고,\r\n",
        "        * int(인텔 cpu opcode(operation code. 기계어의 일부이며 수행할 명령어를 나타내는 부호를 말한다)로 interrupt를 의미) 소프트웨어 인터럽트 명령을 호출하면서 0x80 인터럽트 번호 값을 넘겨줌.\r\n",
        "    * 시스템콜 인터럽트 명령을 호출하면서 0x80 값을 넘겨주며 다음과 같은 일이 실행됨.\r\n",
        "        1. 프로세스 실행 중 인터럽트 발생\r\n",
        "        2. 현재 프로세스 상태 저장 후 실행을 잠시 중단\r\n",
        "        3. CPU는 사용자 모드를 커널 모드로 바꿔주며 OS가 IDT에서 0x80에 해당하는 주소(함수)를 찾아서 실행함. -> system_call() 함수를 실행\r\n",
        "        4. system_call() 함수에서 eax로부터 받은 시스템 콜 번호를 찾아서, 해당 번호에 맞는 시스템 콜 함수로 이동함. -> sys_exit(exit). ebx 인자 값도 같이 넘김\r\n",
        "        5. 해당 시스템 콜 함수 실행 후, 다시 커널모드에서 사용자모드로 변경하고 해당 프로세스 다음 코드를 진행한다."
      ]
    },
    {
      "cell_type": "markdown",
      "metadata": {
        "id": "_VYHaw5MGqmm"
      },
      "source": [
        "- - -\r\n",
        "2020.12.11"
      ]
    },
    {
      "cell_type": "markdown",
      "metadata": {
        "id": "C3KTK24gEfj6"
      },
      "source": [
        ""
      ]
    },
    {
      "cell_type": "markdown",
      "metadata": {
        "id": "K6VC_31PEfmN"
      },
      "source": [
        ""
      ]
    },
    {
      "cell_type": "markdown",
      "metadata": {
        "id": "B0yYHqPyEfok"
      },
      "source": [
        ""
      ]
    },
    {
      "cell_type": "markdown",
      "metadata": {
        "id": "PnCDr_pOEfq3"
      },
      "source": [
        ""
      ]
    },
    {
      "cell_type": "markdown",
      "metadata": {
        "id": "QRRwsptVEftE"
      },
      "source": [
        ""
      ]
    },
    {
      "cell_type": "markdown",
      "metadata": {
        "id": "IBhGBzuQEgDS"
      },
      "source": [
        ""
      ]
    }
  ]
}