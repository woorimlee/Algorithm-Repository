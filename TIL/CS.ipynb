{
 "cells": [
  {
   "cell_type": "markdown",
   "metadata": {
    "colab_type": "text",
    "id": "view-in-github"
   },
   "source": [
    "<a href=\"https://colab.research.google.com/github/woorimlee/Algorithm-Repository/blob/master/TIL/CS.ipynb\" target=\"_parent\"><img src=\"https://colab.research.google.com/assets/colab-badge.svg\" alt=\"Open In Colab\"/></a>"
   ]
  },
  {
   "cell_type": "markdown",
   "metadata": {
    "id": "bKPYVkfdSuvh"
   },
   "source": [
    "- - -\n",
    "## CS\n",
    "* 21.01.18 : 네트워크 개요, 물리 계층 신호 전송 규격\n",
    "\n",
    "\n",
    "* 21.01.19 : 물리 계층 UTP, 허브 CSMA/CD, 단위와 성능(Bandwidth, Throughput, BackPlane, CPS, CC, TPS), 데이터링크 계층 (MAC, LLC, 이더넷, Framing, 회선 제어, 흐름 제어, 오류 제어, 스위치, ARP)\n",
    "\n",
    "\n",
    "* 21.01.20 : Looping, STP, VLAN, 네트워크 계층\n",
    "    * 네트워크 3 계층 : IP, IP 주소 클래스, 서브넷 마스크, 라우터, 라우팅 정적 할당\n",
    "\n",
    "\n",
    "* 21.01.21 : ICMP, DHCP, 동적 라우팅(EGP, IGP)\n",
    "\n",
    "\n",
    "* 21.01.22 : NAT, 전송 계층, 전송 계층을 이용한 프로토콜, 어플리케이션 계층\n",
    "    * NAT : 공인 IP, 사설 IP, Static NAT, Dynamic NAT, PAT(Port Address Translation), Port Forwarding, Hairpin Nat\n",
    "    * 전송 계층 : TCP(타이머, 흐름제어, 혼잡제어), UDP\n",
    "    * 전송 계층을 이용한 프로토콜 : TELNET(23, NVT, Negotiation), SSH(22, 인증, 암호화, 무결성, 압축)\n",
    "    * 애플리케이션 계층 : DNS(local dns server, DNS 계층, 반복적 / 재귀적 쿼리, Resource Records(DNS records)와 Type, 쿼리와 응답, Hosts.txt, cache table)\n",
    "\n",
    "\n",
    "* 21.01.25 : HTTP, SSL & TLS, 메일 서비스, Working set, PFF, 클리닝 정책, 프로그램 구조\n",
    "    * HTTP : 80, Start Line, Status Code (2xx Success, 3xx Redirection, 4xx Client Error, 5xx Server Error), Cookie, Session\n",
    "    * SSL & TLS : HTTP over TLS, TLS Stack(HandShake, Change Cipher Spec, Alert, Record, SNI)\n",
    "    * 메일 서비스 (SMPT 송수신, POP3 열람, IMAP4 열람, MTA, MUA, MDA, MRA)\n",
    "    * Working set : 지역성을 이용한 페이지 부재 최소화, 윈도우 사이즈\n",
    "    * PFF : Working set을 페이지 부재의 간격에 근거하여 결정\n",
    "    * Cleaning Strategy : 적재중 내용이 변경된 페이지를 언제 디스크에 기록시킬 것인가? (요구 클리닝, 선 클리닝)\n",
    "    * 프로그램 구조 : 모든 페이지를 번갈아가며 참조하는 배열과 한 페이지를 모두 참조한 후 다음 페이지로 넘어가는 배열의 차이\n",
    "\n",
    "\n",
    "* 21.01.26 : \n",
    "    * 데이터 아키텍처 : 엔터프라이즈 정보 아키텍처, 비즈니스 아키텍처(사명 -> 목표 ->전략 -> CSF, KPI -> 정보 요구), 정보 요구의 우선순위, 업무 기능, 엔티티 유형, 4PMs, 데이터 친화성, 데이터 분산\n",
    "    * 쉘 스크립트 : Tab(명령 자동 완성), Ctrl + a (라인 맨 앞으로), Ctrl + e(라인 맨 뒤로), Ctrl + r(History 검색), cd, ls, df, mkdir, rmdir, mount, stat\n",
    "\n",
    "\n",
    "* 21.01.27 : \n",
    "    * 데이터 모델링 : Notation(개체 관계, 객체 관계), 엔티티, 관계, 속성, 식별자\n",
    "    * 배쉬 쉘 스크립트 : touch, cat, head, tail, cp, mv, rename, rm, less, ln, paste, dd, tar\n",
    "\n",
    "\n",
    "* 21.01.28 : \n",
    "    * 데이터 모델링 : 비즈니스 규칙, 속성값 정의, 개념, 논리, 물리 데이터모델 (관계비, 선택성, 볼륨, 데이터 보안성), 정규화, 데이터 모델 검증 시스템\n",
    "    * 배쉬 쉘 스크립트 : \n",
    "        * 프로세스 관련 : ps, pstree, top, nohup, kill\n",
    "        * 네트워크 관련 : ifconfig, ip, netstat, ss, iptables, ufw, ping, wget, curl, route\n",
    "\n",
    "\n",
    "* 21.01.29 : \n",
    "    * 데이터베이스 설계 : \n",
    "        * 데이터 모델 to 데이터베이스\n",
    "            * 관계 모델 V2, ANSI SPARC 스키마\n",
    "        * DB 성능\n",
    "            * 인덱스, 해싱, 클러스터링, 인터리빙 데이터 설계 \n",
    "    * 배쉬 쉘 스크립트 : redirection, echo, chmod, chown, sudo, who, date, seq, more, watch, crontab\n",
    "    * OS : 파일 시스템\n",
    "        * 파일 저장 방식, 논리적 / 물리적 파일시스템 구조, 디스크 할당 테이블, 파일 접근 제어(접근 행렬)\n",
    "\n",
    "\n",
    "* 21.01.30 :\n",
    "    * DB 설계\n",
    "        * 역정규화 (선조인, 미로, 분할, 병합)\n",
    "        * 중복 데이터와 반복 데이터 그룹\n",
    "        * 파생 데이터와 계층 데이터\n",
    "    * 배쉬 셀 스크립트 : 파이프라인, 세미콜론, AND, OR\n",
    "        * 퀴즈 열 개 복습하기\n",
    "\n",
    "\n",
    "* 21.02.01 : \n",
    "    * OS History\n",
    "        * 응용 프로그램이 시스템 자원을 제어하던 방식(OS가 없었음)에서 배치 처리 시스템 등장\n",
    "        * 멀티 태스킹, 시분할 시스템 등장\n",
    "    * 배쉬 셀 스크립트 : CLI 편집기 (nano, vim)\n",
    "\n",
    "\n",
    "* 21.02.17 :\n",
    "    * 배쉬 셀 스크립트 : 쉘 스크립트 작성 흐름, 조건문(서버 이름 걸러내기)\n",
    "\n",
    "\n",
    "* 21.02.25 : \n",
    "    * 업비트 API & 텔레그램 봇 이용한 코인 정보 제공 프로그램 제작중\n",
    "\n",
    "\n",
    "* 21.03.03 : \n",
    "    * 배쉬 셀 스크립트 : case(패턴 입력시 '패턴)' 형태로 사용), for, while ssh 서버 접속 예제"
   ]
  },
  {
   "cell_type": "markdown",
   "metadata": {
    "id": "j0c4QIoyhkRH"
   },
   "source": [
    "- - -\n",
    "## 알고리즘\n",
    "\n",
    "* 그간 정리한 알고리즘\n",
    "    * 자료구조\n",
    "        * 배열, 연결리스트 : 투 포인터, 슬라이딩 윈도우, 러너\n",
    "        * 스택, 큐, 덱\n",
    "        * 우선순위 큐, 해시 테이블\n",
    "        * 그래프 : 탐색(순회), 백 트래킹, 최단 경로\n",
    "        * 트리 : 이진 트리 순회, 이진 탐색 트리, 힙, 트라이\n",
    "    * 문자열 : 정규표현식, KMP\n",
    "    * 브루트포스\n",
    "    * 분할 정복과 정렬 : 병합 정렬, 퀵 정렬, 삽입 정렬, 팀 정렬(개념만 학습)\n",
    "    * DP\n",
    "    * 그리디\n",
    "    \n",
    "    \n",
    "* 앞으로 정리할 알고리즘 \n",
    "    * 비트마스크, 조합, 순열\n",
    "    * 크루스칼, 벨만 포드\n",
    "    * 최소 스패닝 트리\n",
    "    * 유니온 파인드\n",
    "    * 세그먼트 트리\n",
    "    * 위상 정렬\n",
    "    * 레드-블랙 트리\n",
    "    * 의사결정 트리\n",
    "    * 허프만 코딩"
   ]
  },
  {
   "cell_type": "markdown",
   "metadata": {},
   "source": [
    "- - -\n",
    "## 처음 배우는 딥러닝 수학\n",
    "\n",
    "* 활성화 함수와 단위 계단 함수\n",
    "    * 단위 계단 함수는 뉴런의 0 또는 1 출력값 즉, 반응 여부에 대해 판단할 수 있음\n",
    "    * 활성화 함수는 (시그모이드 함수 기준)0과 1 사이의 임의의 출력값 y를 통해 유닛의 흥분도, 반응도, 활성도를 판단할 수 있음\n",
    "        * 활성화 함수의 bias(편향) 값은 다음과 같이 재구성 가능\n",
    "            * z = w1x1 + w2x2 + ... + b * 1 \n",
    "            * 가상의 입력을 하나 늘려서 항상 1이라는 입력이 있다고 가정하는 것.\n",
    "            * 이렇게 하면 가중 입력을 두 벡터의 내적으로 표현할 수 있음\n",
    "            * (w1, w2, w3, b)(x1, x2, x3, 1)\n",
    "\n",
    "* 37p 부터"
   ]
  },
  {
   "cell_type": "markdown",
   "metadata": {},
   "source": [
    "- - -\n",
    "## 파이썬 머신러닝 완벽 가이드\n",
    "\n",
    "* 4장 09 분류 실습만 안함\n",
    "* 5장 04까지 하고, 보스턴 가격 예측만 안 함"
   ]
  },
  {
   "cell_type": "markdown",
   "metadata": {},
   "source": [
    "- - -\n",
    "## 밑바닥부터 시작하는 데이터 과학\n",
    "\n",
    "* 14장부터, 17장까지 한 번 보긴 함"
   ]
  },
  {
   "cell_type": "code",
   "execution_count": null,
   "metadata": {},
   "outputs": [],
   "source": []
  }
 ],
 "metadata": {
  "colab": {
   "authorship_tag": "ABX9TyPqWN62kxvLBzKOMOZGZnWH",
   "collapsed_sections": [],
   "include_colab_link": true,
   "name": "CS.ipynb",
   "provenance": []
  },
  "kernelspec": {
   "display_name": "Python 3",
   "language": "python",
   "name": "python3"
  },
  "language_info": {
   "codemirror_mode": {
    "name": "ipython",
    "version": 3
   },
   "file_extension": ".py",
   "mimetype": "text/x-python",
   "name": "python",
   "nbconvert_exporter": "python",
   "pygments_lexer": "ipython3",
   "version": "3.8.3"
  }
 },
 "nbformat": 4,
 "nbformat_minor": 1
}
