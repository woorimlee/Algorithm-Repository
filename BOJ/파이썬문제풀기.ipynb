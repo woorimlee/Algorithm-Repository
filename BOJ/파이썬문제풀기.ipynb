{
 "cells": [
  {
   "cell_type": "code",
   "execution_count": 14,
   "metadata": {},
   "outputs": [
    {
     "name": "stdout",
     "output_type": "stream",
     "text": [
      "4 5 1\n",
      "1 2\n",
      "1 3\n",
      "1 4\n",
      "2 4\n",
      "3 4\n",
      "1 2 4 3\n",
      "1 2 3 4\n"
     ]
    }
   ],
   "source": [
    "import sys\n",
    "sys.setrecursionlimit(10**6)\n",
    "#input = sys.stdin.readline\n",
    "\n",
    "def dfs(V):\n",
    "    visit[V] = 1\n",
    "    result1.append(V)\n",
    "    for i in graph[V]:\n",
    "        if visit[i] == 0:\n",
    "            visit[i] = 1\n",
    "            dfs(i)\n",
    "\n",
    "def bfs(V):\n",
    "    visit[V] = 0\n",
    "    result2.append(V)\n",
    "    temp = [V]\n",
    "    while temp:\n",
    "        q = temp.pop(0)\n",
    "        for i in graph[q]:\n",
    "            if visit[i] == 1:\n",
    "                result2.append(i)\n",
    "                temp.append(i)\n",
    "                visit[i] = 0\n",
    "        \n",
    "N, M, V = map(int, input().split())\n",
    "\n",
    "graph = [[] for _ in range(N + 1)]\n",
    "\n",
    "for _ in range(M):\n",
    "    node1, node2 = map(int, input().split())\n",
    "    graph[node1].append(node2)\n",
    "    graph[node2].append(node1)\n",
    "for i in range(len(graph)):\n",
    "    graph[i].sort()\n",
    "    \n",
    "visit = [0] * (N + 1)\n",
    "result1 = []\n",
    "result2 = []\n",
    "dfs(V)\n",
    "bfs(V)\n",
    "print(*result1)\n",
    "print(*result2)"
   ]
  },
  {
   "cell_type": "code",
   "execution_count": null,
   "metadata": {},
   "outputs": [],
   "source": []
  }
 ],
 "metadata": {
  "kernelspec": {
   "display_name": "Python 3",
   "language": "python",
   "name": "python3"
  },
  "language_info": {
   "codemirror_mode": {
    "name": "ipython",
    "version": 3
   },
   "file_extension": ".py",
   "mimetype": "text/x-python",
   "name": "python",
   "nbconvert_exporter": "python",
   "pygments_lexer": "ipython3",
   "version": "3.8.3"
  }
 },
 "nbformat": 4,
 "nbformat_minor": 2
}
