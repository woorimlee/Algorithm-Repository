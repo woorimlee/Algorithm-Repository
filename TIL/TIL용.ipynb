{
  "nbformat": 4,
  "nbformat_minor": 0,
  "metadata": {
    "colab": {
      "name": "TIL용.ipynb",
      "provenance": [],
      "collapsed_sections": [],
      "authorship_tag": "ABX9TyOi15tje5vhSnmi4Z7sOeK0",
      "include_colab_link": true
    },
    "kernelspec": {
      "name": "python3",
      "display_name": "Python 3"
    }
  },
  "cells": [
    {
      "cell_type": "markdown",
      "metadata": {
        "id": "view-in-github",
        "colab_type": "text"
      },
      "source": [
        "<a href=\"https://colab.research.google.com/github/woorimlee/Algorithm-Repository/blob/master/TIL/TIL%EC%9A%A9.ipynb\" target=\"_parent\"><img src=\"https://colab.research.google.com/assets/colab-badge.svg\" alt=\"Open In Colab\"/></a>"
      ]
    },
    {
      "cell_type": "markdown",
      "metadata": {
        "id": "bKPYVkfdSuvh"
      },
      "source": [
        "- - -\r\n",
        "## CS\r\n",
        "* 21.01.18 : 네트워크 개요, 물리 계층 신호 전송 규격\r\n",
        "\r\n",
        "* 21.01.19 : 물리 계층 UTP, 허브 CSMA/CD, 단위와 성능(Bandwidth, Throughput, BackPlane, CPS, CC, TPS), 데이터링크 계층 (MAC, LLC, 이더넷, Framing, 회선 제어, 흐름 제어, 오류 제어, 스위치, ARP)\r\n",
        "\r\n",
        "* 21.01.20 : Looping, STP, VLAN, 네트워크 계층\r\n",
        "    * 네트워크 3 계층 : IP, IP 주소 클래스, 서브넷 마스크, 라우터, 라우팅 정적 할당\r\n",
        "\r\n",
        "* 21.01.21 : ICMP, DHCP, 동적 라우팅(EGP, IGP)\r\n",
        "\r\n",
        "* 21.01.22 : NAT, 전송 계층, 전송 계층을 이용한 프로토콜, 어플리케이션 계층\r\n",
        "    * NAT : 공인 IP, 사설 IP, Static NAT, Dynamic NAT, PAT(Port Address Translation), Port Forwarding, Hairpin Nat\r\n",
        "    * 전송 계층 : TCP(타이머, 흐름제어, 혼잡제어), UDP\r\n",
        "    * 전송 계층을 이용한 프로토콜 : TELNET(23, NVT, Negotiation), SSH(22, 인증, 암호화, 무결성, 압축)\r\n",
        "    * 애플리케이션 계층 : DNS(local dns server, DNS 계층, 반복적 / 재귀적 쿼리, Resource Records(DNS records)와 Type, 쿼리와 응답, Hosts.txt, cache table)"
      ]
    },
    {
      "cell_type": "markdown",
      "metadata": {
        "id": "j0c4QIoyhkRH"
      },
      "source": [
        "- - -\r\n",
        "## 알고리즘\r\n",
        "* "
      ]
    },
    {
      "cell_type": "markdown",
      "metadata": {
        "id": "M8RF0Tobhdd2"
      },
      "source": [
        "- - -\r\n",
        "## 경제 신문 읽기\r\n",
        "* "
      ]
    },
    {
      "cell_type": "markdown",
      "metadata": {
        "id": "KLmFZsHnhNwm"
      },
      "source": [
        "- - -\r\n",
        "## 미라클레터\r\n",
        "* 21.01.18 : CES (ESG 테마, FPGA)\r\n",
        "\r\n",
        "* 21.01.19 : CES (홈코노미, CTA 기술 전망)\r\n",
        "\r\n",
        "* 21.01.20 : CES (산업을 뛰어넘는 혁신(GM, 보쉬, 모빌아이와 인텔, 버라이즌), 하반기 빅테크 규제 예상)\r\n",
        "\r\n",
        "* 21.01.21 : CES (공룡들의 혁신 법, 월마트의 속도, 인텔의 교체, AMD의 집중, MS의 공동체)\r\n",
        "\r\n",
        "* 21.01.22 : CES 정리 (21년 CES 트렌드 세 가지, 에너지 전환, 인공지능, 로봇)"
      ]
    },
    {
      "cell_type": "markdown",
      "metadata": {
        "id": "Je8Na-73hivP"
      },
      "source": [
        "- - -\r\n",
        "## 영어\r\n",
        "* 21.01.18 : had better(<-> should <-> must(have to)), would like to(<-> want to <-> like to)\r\n",
        "\r\n",
        "\r\n",
        "* 21.01.19 : would rather, would rather not, would rather A than B (A, B : 동사 원형)\r\n",
        "\r\n",
        "\r\n",
        "* 21.01.20 : gotta, have got to \r\n",
        "\r\n",
        "\r\n",
        "* 21.01.22 : will be able to (will can의 사용법), was(were) able to (실제로 한) 할 수 있었어 <-> Could (실제로 안 한) 할 수 있었어"
      ]
    },
    {
      "cell_type": "markdown",
      "metadata": {
        "id": "mOdnc1BR1vbB"
      },
      "source": [
        "- - -\r\n",
        "## 책 읽기"
      ]
    },
    {
      "cell_type": "markdown",
      "metadata": {
        "id": "yya2PTn_KxEO"
      },
      "source": [
        "### 맨큐의 경제학\r\n",
        "* 21.01.18 : 생계비의 측정(거시 경제의 기본이 되는 데이터)\r\n",
        "    * 소비자 물가 지수(CPI), 명목 물가, 실질 물가\r\n",
        "\r\n",
        "\r\n",
        "* 21.01.19 : 거시경제 생산과 성장\r\n",
        "    * 생산성에 결정을 주는 요인 (물적 자본, 인적 자본, 자연 자원, 기술 혁신)\r\n",
        "    * 기술 혁신이 생산성에 가장 큰 영향을 미침\r\n",
        "    * 수확 체감 (선진국 생산성과 후진국 생산성 향상의 차이)\r\n",
        "    * 인구 증가에 따른 경제 성장 변화(보통 안좋게 보지만 맨큐의 경제학에선 긍정, 부정적 측면이 모두 존재한다고 판단)\r\n",
        "\r\n",
        "\r\n",
        "* 21.01.20 : 저축과 투자, 금용 제도\r\n",
        "    * GDP를 이용한 투자에 대한 설명 : \r\n",
        "        * 총 생산 - 총 지출 = 0\r\n",
        "        * 총 지출(소비, 기업 투자, 정부의 지출, 순 수출)\r\n",
        "        * 투자 : 총 생산 - (가게 소비 + 정부 지출) = 기업 투자\r\n",
        "        * 저축 : 총 소득 - (소비 + 정부 지출) = 저축\r\n",
        "        * 투자는 곧 저축\r\n",
        "        * **정부의 지출 정책** : 최초의 정부 지출은 경제를 활성화시킬 수 있다. (소비가 상승하며 생산자들의 부담이 덜해짐) 다만, 정부 지출이 수입보다 크다면 재정 적자가 발생하기 때문에 정부 저축이 마이너스가되고, 결국 투자도 마이너스가 되어 장기적으로 국가에 좋지 않다.\r\n",
        "\r\n",
        "\r\n",
        "* 21.01.21 : 재무이론의 기초\r\n",
        "    * 현재가치와 미래가치 (이자율에 따라 결정되는)\r\n",
        "\r\n",
        "\r\n",
        "* 21.01.22 : 실업이 사람에게 미치는 영향(생활수준, 자존심, 장래)과 실업이 발생하는 네 가지 이유(직업 탐색, 최저임금제, 노동조합과 단체교섭, 효율 임금)"
      ]
    },
    {
      "cell_type": "markdown",
      "metadata": {
        "id": "6XezwnJ-NGEU"
      },
      "source": [
        ""
      ]
    }
  ]
}