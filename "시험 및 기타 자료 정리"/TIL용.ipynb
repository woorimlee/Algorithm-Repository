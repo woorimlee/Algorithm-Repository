{
  "nbformat": 4,
  "nbformat_minor": 0,
  "metadata": {
    "colab": {
      "name": "TIL용.ipynb",
      "provenance": [],
      "collapsed_sections": [],
      "toc_visible": true,
      "authorship_tag": "ABX9TyM2CCyfsg1yTGeUJXF7kdgj",
      "include_colab_link": true
    },
    "kernelspec": {
      "name": "python3",
      "display_name": "Python 3"
    }
  },
  "cells": [
    {
      "cell_type": "markdown",
      "metadata": {
        "id": "view-in-github",
        "colab_type": "text"
      },
      "source": [
        "<a href=\"https://colab.research.google.com/github/woorimlee/Algorithm-Repository/blob/master/%22%EC%8B%9C%ED%97%98%20%EB%B0%8F%20%EA%B8%B0%ED%83%80%20%EC%9E%90%EB%A3%8C%20%EC%A0%95%EB%A6%AC%22/TIL%EC%9A%A9.ipynb\" target=\"_parent\"><img src=\"https://colab.research.google.com/assets/colab-badge.svg\" alt=\"Open In Colab\"/></a>"
      ]
    },
    {
      "cell_type": "markdown",
      "metadata": {
        "id": "ms6ynymeI8rX"
      },
      "source": [
        "- - -\n",
        "2020.12.07 \n",
        "## OS 개론 \n",
        "\n",
        "### OS 역할 \n",
        "1. 시스템 자원(System Resource) 관리자\n",
        "2. 사용자와 컴퓨터간의 커뮤니케이션 지원\n",
        "3. 컴퓨터 하드웨어와 프로그램을 제어\n",
        "\n",
        "### Syscall & API\n",
        "* 응용 프로그램을 위한 인터페이스를 제공. API(Application Programming Interface)\n",
        "    * 보통은 library 형태로 제공. (printf같은 함수를 사용하기 위한 stdio)\n",
        "* syscall : 시스템콜은 운영체제가 하드웨어의 각 기능을 사용할 수 있도록 제공하는 명령어. API 내부에서 실행되는 경우가 대부분\n",
        "    * POSIX API(시스템콜 정의 대표 예, UNIX 계열), Windows API"
      ]
    },
    {
      "cell_type": "markdown",
      "metadata": {
        "id": "T-RQ3WDNPtua"
      },
      "source": [
        "- - -\n",
        "2020.12.08"
      ]
    },
    {
      "cell_type": "code",
      "metadata": {
        "id": "J3c3Ac1zP47Q"
      },
      "source": [
        ""
      ],
      "execution_count": null,
      "outputs": []
    }
  ]
}