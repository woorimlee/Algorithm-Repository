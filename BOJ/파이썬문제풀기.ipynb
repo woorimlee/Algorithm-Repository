{
 "cells": [
  {
   "cell_type": "code",
   "execution_count": 45,
   "metadata": {},
   "outputs": [
    {
     "name": "stdout",
     "output_type": "stream",
     "text": [
      "1022\n",
      "1023\n",
      "9876543210\n"
     ]
    }
   ],
   "source": [
    "N = int(input())\n",
    "index = 9\n",
    "q = [i for i in range(0, index + 1)] #0 ~ 9까지 리스트에 넣음\n",
    "#que의 맨 앞에는 감소하는 수 중 가장 작은 값이 들어있음.\n",
    "#그 수의 일의 자리 값을 기준으로 그것보다 작은 값을 0부터 순서대로 맨 뒤에 이어붙이고\n",
    "#que에 넣어준다.\n",
    "ans = [i for i in range(0, index + 1)]\n",
    "\n",
    "while index <= N :\n",
    "    if not q :\n",
    "        break\n",
    "    t_num = q.pop(0) #target_number\n",
    "    t_last_num = t_num % 10 #일의 자리\n",
    "    for j in range(0, t_last_num) :\n",
    "        q.append(t_num * 10 + j)\n",
    "        ans.append(t_num * 10 + j)\n",
    "        index += 1\n",
    "        \n",
    "if len(ans) <= N :\n",
    "    print(-1)\n",
    "else :\n",
    "    print(ans[N])"
   ]
  },
  {
   "cell_type": "code",
   "execution_count": null,
   "metadata": {},
   "outputs": [],
   "source": []
  }
 ],
 "metadata": {
  "kernelspec": {
   "display_name": "Python 3",
   "language": "python",
   "name": "python3"
  },
  "language_info": {
   "codemirror_mode": {
    "name": "ipython",
    "version": 3
   },
   "file_extension": ".py",
   "mimetype": "text/x-python",
   "name": "python",
   "nbconvert_exporter": "python",
   "pygments_lexer": "ipython3",
   "version": "3.7.3"
  }
 },
 "nbformat": 4,
 "nbformat_minor": 2
}
