{
 "cells": [
  {
   "cell_type": "code",
   "execution_count": 2,
   "metadata": {},
   "outputs": [],
   "source": [
    "import sqlite3\n",
    "\n",
    "dbconn = sqlite3.connect('temp.db')\n",
    "\n",
    "dbcursor = dbconn.cursor()\n",
    "\n",
    "dbcursor.execute(\"create table if not exists tel \\\n",
    "    (id integer primary key autoincrement, name text, tel text, \\\n",
    "    addr text, input_time text, memo text)\")\n",
    "dbcursor.close()\n",
    "dbconn.close()"
   ]
  },
  {
   "cell_type": "code",
   "execution_count": 4,
   "metadata": {},
   "outputs": [
    {
     "name": "stdout",
     "output_type": "stream",
     "text": [
      "이름 : 이우림\n",
      "전화번호 : 테스트\n",
      "주소 : 야\n",
      "메모 : 야\n",
      "(1, '이우림', '100114', '서울', 'Fri May 21 09:25:38 2021', '야호')\n",
      "(2, '이우림', '테스트', '야', 'Fri May 21 09:25:51 2021', '야')\n"
     ]
    }
   ],
   "source": [
    "import sqlite3\n",
    "import time\n",
    "\n",
    "dbconn = sqlite3.connect('temp.db')\n",
    "\n",
    "dbcursor = dbconn.cursor()\n",
    "name = input(\"이름 : \")\n",
    "tel = input(\"전화번호 : \")\n",
    "addr = input(\"주소 : \")\n",
    "memo = input(\"메모 : \")\n",
    "input_time = str(time.asctime(time.localtime(time.time())))\n",
    "\n",
    "dbcursor.execute(\" insert into tel (name, tel, addr, input_time, memo) \\\n",
    "    values ('\" +name+ \"', '\"+tel+\"', '\"+addr+\"', '\"+input_time+\"', '\"+memo+\"')\")\n",
    "\n",
    "dbconn.commit()\n",
    "\n",
    "for row in dbcursor.execute(\"SELECT * FROM tel\") :\n",
    "    print(row)\n",
    "\n",
    "dbcursor.close()\n",
    "dbconn.close()"
   ]
  },
  {
   "cell_type": "code",
   "execution_count": null,
   "metadata": {},
   "outputs": [],
   "source": []
  }
 ],
 "metadata": {
  "kernelspec": {
   "display_name": "Python 3",
   "language": "python",
   "name": "python3"
  },
  "language_info": {
   "codemirror_mode": {
    "name": "ipython",
    "version": 3
   },
   "file_extension": ".py",
   "mimetype": "text/x-python",
   "name": "python",
   "nbconvert_exporter": "python",
   "pygments_lexer": "ipython3",
   "version": "3.8.3"
  }
 },
 "nbformat": 4,
 "nbformat_minor": 4
}
