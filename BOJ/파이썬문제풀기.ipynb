{
 "cells": [
  {
   "cell_type": "code",
   "execution_count": 9,
   "metadata": {},
   "outputs": [
    {
     "name": "stdout",
     "output_type": "stream",
     "text": [
      "7\n",
      "0 0 0 1 0 0 0\n",
      "0 0 0 0 0 0 1\n",
      "0 0 0 0 0 0 0 \n",
      "0 0 0 0 1 1 0\n",
      "1 0 0 0 0 0 0\n",
      "0 0 0 0 0 0 1\n",
      "0 0 1 0 0 0 0 \n",
      "1 0 1 1 1 1 1\n",
      "0 0 1 0 0 0 1\n",
      "0 0 0 0 0 0 0\n",
      "1 0 1 1 1 1 1\n",
      "1 0 1 1 1 1 1\n",
      "0 0 1 0 0 0 1\n",
      "0 0 1 0 0 0 0\n"
     ]
    }
   ],
   "source": [
    "import sys\n",
    "input = sys.stdin.readline\n",
    "\n",
    "def find_path(i) :\n",
    "    path = [0]*N\n",
    "    que = [i]\n",
    "    \n",
    "    while que :\n",
    "        node = que.pop(0)\n",
    "        for index, vertex in enumerate(graph[node]) :\n",
    "            if vertex == '1' and path[index] == 0 :\n",
    "                path[index] = 1\n",
    "                que.append(index)\n",
    "    return path\n",
    "\n",
    "N = int(input())\n",
    "graph = [ input().split() for _ in range(N)]\n",
    "ans = []\n",
    "for i in range(N) :\n",
    "    ans.append(find_path(i))\n",
    "for i in ans :\n",
    "    print(*i)"
   ]
  },
  {
   "cell_type": "code",
   "execution_count": null,
   "metadata": {},
   "outputs": [],
   "source": []
  }
 ],
 "metadata": {
  "kernelspec": {
   "display_name": "Python 3",
   "language": "python",
   "name": "python3"
  },
  "language_info": {
   "codemirror_mode": {
    "name": "ipython",
    "version": 3
   },
   "file_extension": ".py",
   "mimetype": "text/x-python",
   "name": "python",
   "nbconvert_exporter": "python",
   "pygments_lexer": "ipython3",
   "version": "3.8.3"
  }
 },
 "nbformat": 4,
 "nbformat_minor": 2
}
