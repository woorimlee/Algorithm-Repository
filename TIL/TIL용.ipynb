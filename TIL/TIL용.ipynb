{
  "nbformat": 4,
  "nbformat_minor": 0,
  "metadata": {
    "colab": {
      "name": "TIL용.ipynb",
      "provenance": [],
      "collapsed_sections": [],
      "authorship_tag": "ABX9TyMLvKUOZXMqD31ZRivjGv2Y",
      "include_colab_link": true
    },
    "kernelspec": {
      "name": "python3",
      "display_name": "Python 3"
    }
  },
  "cells": [
    {
      "cell_type": "markdown",
      "metadata": {
        "id": "view-in-github",
        "colab_type": "text"
      },
      "source": [
        "<a href=\"https://colab.research.google.com/github/woorimlee/Algorithm-Repository/blob/master/TIL/TIL%EC%9A%A9.ipynb\" target=\"_parent\"><img src=\"https://colab.research.google.com/assets/colab-badge.svg\" alt=\"Open In Colab\"/></a>"
      ]
    },
    {
      "cell_type": "markdown",
      "metadata": {
        "id": "bKPYVkfdSuvh"
      },
      "source": [
        "- - -\r\n",
        "## CS\r\n",
        "* 21.01.18 : 네트워크 개요, 물리 계층 신호 전송 규격\r\n",
        "* 21.01.19 : 물리 계층 UTP, 허브 CSMA/CD, 단위와 성능(Bandwidth, Throughput, BackPlane, CPS, CC, TPS), 데이터링크 계층 (MAC, LLC, 이더넷, Framing, 회선 제어, 흐름 제어, 오류 제어, 스위치, ARP)\r\n",
        "\r\n"
      ]
    },
    {
      "cell_type": "markdown",
      "metadata": {
        "id": "j0c4QIoyhkRH"
      },
      "source": [
        "- - -\r\n",
        "## 알고리즘\r\n",
        "* "
      ]
    },
    {
      "cell_type": "markdown",
      "metadata": {
        "id": "M8RF0Tobhdd2"
      },
      "source": [
        "- - -\r\n",
        "## 경제 신문 읽기\r\n",
        "* "
      ]
    },
    {
      "cell_type": "markdown",
      "metadata": {
        "id": "KLmFZsHnhNwm"
      },
      "source": [
        "- - -\r\n",
        "## 미라클레터\r\n",
        "* 21.01.18 : CES (ESG 테마, FPGA)\r\n",
        "* 21.01.19 : CES (홈코노미, CTA 기술 전망)"
      ]
    },
    {
      "cell_type": "markdown",
      "metadata": {
        "id": "Je8Na-73hivP"
      },
      "source": [
        "- - -\r\n",
        "## 영어\r\n",
        "* 21.01.18 : had better(<-> should <-> must(have to)), would like to(<-> want to <-> like to)"
      ]
    },
    {
      "cell_type": "markdown",
      "metadata": {
        "id": "mOdnc1BR1vbB"
      },
      "source": [
        "- - -\r\n",
        "## 책 읽기"
      ]
    },
    {
      "cell_type": "markdown",
      "metadata": {
        "id": "yya2PTn_KxEO"
      },
      "source": [
        "### 맨큐의 경제학\r\n",
        "* 21.01.18 : 생계비의 측정(거시 경제의 기본이 되는 데이터)\r\n",
        "    * 소비자 물가 지수(CPI), 명목 물가, 실질 물가\r\n",
        "\r\n",
        "\r\n",
        "* 21.01.19 : 거시경제 생산과 성장\r\n",
        "    * 생산성에 결정을 주는 요인 (물적 자본, 인적 자본, 자연 자원, 기술 혁신)\r\n",
        "    * 기술 혁신이 생산성에 가장 큰 영향을 미침\r\n",
        "    * 수확 체감 (선진국 생산성과 후진국 생산성 향상의 차이)\r\n",
        "    * 인구 증가에 따른 경제 성장 변화(보통 안좋게 보지만 맨큐의 경제학에선 긍정, 부정적 측면이 모두 존재한다고 판단)"
      ]
    },
    {
      "cell_type": "code",
      "metadata": {
        "id": "6XezwnJ-NGEU"
      },
      "source": [
        ""
      ],
      "execution_count": null,
      "outputs": []
    }
  ]
}