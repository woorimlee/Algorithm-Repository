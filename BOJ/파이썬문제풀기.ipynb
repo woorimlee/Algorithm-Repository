{
 "cells": [
  {
   "cell_type": "code",
   "execution_count": 13,
   "metadata": {},
   "outputs": [
    {
     "name": "stdout",
     "output_type": "stream",
     "text": [
      "3 2\n",
      "1 0\n",
      "2 1\n",
      "3 2\n",
      "2 5\n",
      "-1 0 1 0 -1\n",
      "0 2 0 2 2\n",
      "-1 0 1 0 -1\n",
      "-2 2 2 2 0\n",
      "-3 4 3 4 1\n"
     ]
    }
   ],
   "source": [
    "N, M = map(int, input().split())\n",
    "A = [list(map(int, input().split())) for _ in range(N)]\n",
    "M, K = map(int, input().split())\n",
    "B = list(zip(*[list(map(int, input().split())) for _ in range(M)]))\n",
    "\n",
    "C = []\n",
    "for i in A :\n",
    "    temp = []\n",
    "    for j in B :\n",
    "        temp.append(sum([i[k]*j[k] for k in range(M)]))\n",
    "    C.append()        \n",
    "\n",
    "for ans in C : \n",
    "    print(*ans)"
   ]
  }
 ],
 "metadata": {
  "kernelspec": {
   "display_name": "Python 3",
   "language": "python",
   "name": "python3"
  },
  "language_info": {
   "codemirror_mode": {
    "name": "ipython",
    "version": 3
   },
   "file_extension": ".py",
   "mimetype": "text/x-python",
   "name": "python",
   "nbconvert_exporter": "python",
   "pygments_lexer": "ipython3",
   "version": "3.7.3"
  }
 },
 "nbformat": 4,
 "nbformat_minor": 2
}
