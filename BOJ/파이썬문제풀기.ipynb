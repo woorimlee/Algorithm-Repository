{
 "cells": [
  {
   "cell_type": "code",
   "execution_count": 15,
   "metadata": {},
   "outputs": [
    {
     "name": "stdout",
     "output_type": "stream",
     "text": [
      "A+B*C\n",
      "A ['A'] []\n",
      "+ ['A'] ['+']\n",
      "B ['A', 'B'] ['+']\n",
      "* ['A', 'B'] ['+', '*']\n",
      "C ['A', 'B', 'C'] ['+', '*']\n",
      "ABC*+\n"
     ]
    }
   ],
   "source": [
    "\"\"\"\n",
    "1. 문자가 나오면 정답용(ans) 스택에 push\n",
    "2. '('가 나오면 연산 기록 저장용(stack) 스택에 push\n",
    "3. '*' 혹은 '/'가 나오면 1) stack에 push,  \n",
    "    2) stack에 이미 '*' 혹은 '/'가 있으면 ans에 push하고 stack에선 pop\n",
    "    이 과정을 하지 않으면 연산자 우선순위가 뒤엉킴\n",
    "    ex) A*B/C 같은 것을 후위 연산자로 표현할 때를 생각해보자.\n",
    "4. '+' 혹은 '-'가 나오면 1) stack에 push,\n",
    "    2) 우선순위가 낮은 연산이기 때문에 이미 stack에 들어있는 연산자 모두 ans에 push하고 stack에선 pop\n",
    "5. ')'가 나오면 '('가 나올 때까지 stack에서 pop, ans에 push\n",
    "\"\"\"\n",
    "\n",
    "s = input()\n",
    "\n",
    "ans, stack = [], []\n",
    "for char in s:\n",
    "    if ord('A') <= ord(char) <= ord('Z'):\n",
    "        ans.append(char)\n",
    "    elif char == '(':\n",
    "        stack.append(char)\n",
    "    elif char == '*' or char == '/':\n",
    "        while len(stack)!=0 and (stack[-1] == '*' or stack[-1] == '/'):\n",
    "            ans.append(stack.pop())\n",
    "        stack.append(char)\n",
    "    elif char == '+' or char == '-':\n",
    "        while len(stack) != 0 and stack[-1] != '(':\n",
    "            ans.append(stack.pop())\n",
    "        stack.append(char)\n",
    "    elif char == ')':\n",
    "        while len(stack) != 0 and stack[-1] != '(':\n",
    "            ans.append(stack.pop())\n",
    "        stack.pop()\n",
    "        \n",
    "while len(stack) != 0:\n",
    "    ans.append(stack.pop())\n",
    "\n",
    "print(''.join(ans))"
   ]
  }
 ],
 "metadata": {
  "kernelspec": {
   "display_name": "Python 3",
   "language": "python",
   "name": "python3"
  },
  "language_info": {
   "codemirror_mode": {
    "name": "ipython",
    "version": 3
   },
   "file_extension": ".py",
   "mimetype": "text/x-python",
   "name": "python",
   "nbconvert_exporter": "python",
   "pygments_lexer": "ipython3",
   "version": "3.7.3"
  }
 },
 "nbformat": 4,
 "nbformat_minor": 2
}
