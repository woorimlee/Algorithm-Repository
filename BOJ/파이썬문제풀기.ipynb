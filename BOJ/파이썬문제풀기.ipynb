{
 "cells": [
  {
   "cell_type": "code",
   "execution_count": 1,
   "metadata": {},
   "outputs": [
    {
     "name": "stdout",
     "output_type": "stream",
     "text": [
      "()(((()())(())()))(())\n",
      "11\n"
     ]
    }
   ],
   "source": [
    "#10773 제로\n",
    "import sys\n",
    "K = int(sys.stdin.readline())\n",
    "num = []\n",
    "for i in range(K):\n",
    "    N = int(sys.stdin.readline())\n",
    "    if N == 0:\n",
    "        number.pop(-1)\n",
    "    else:\n",
    "        number.append(N)\n",
    " \n",
    "print(sum(number))"
   ]
  }
 ],
 "metadata": {
  "kernelspec": {
   "display_name": "Python 3",
   "language": "python",
   "name": "python3"
  },
  "language_info": {
   "codemirror_mode": {
    "name": "ipython",
    "version": 3
   },
   "file_extension": ".py",
   "mimetype": "text/x-python",
   "name": "python",
   "nbconvert_exporter": "python",
   "pygments_lexer": "ipython3",
   "version": "3.7.3"
  }
 },
 "nbformat": 4,
 "nbformat_minor": 2
}
