{
 "cells": [
  {
   "cell_type": "code",
   "execution_count": 170,
   "metadata": {
    "scrolled": true
   },
   "outputs": [
    {
     "name": "stdout",
     "output_type": "stream",
     "text": [
      "<re.Match object; span=(0, 3), match='abc'>\n",
      "None\n",
      "<re.Match object; span=(0, 2), match='ab'>\n",
      "None\n",
      "\n",
      "=============\n",
      "\n",
      "<re.Match object; span=(0, 3), match='abc'>\n",
      "None\n",
      "<re.Match object; span=(0, 2), match='ab'>\n",
      "<re.Match object; span=(1, 4), match='abc'>\n",
      "\n",
      "=============\n",
      "\n",
      "['a', 'a']\n",
      "['a']\n",
      "[]\n",
      "['aaa']\n",
      "['aaa', 'aaa']\n",
      "\n",
      "=============\n",
      "\n",
      "<re.Match object; span=(0, 2), match='ab'>\n",
      "<re.Match object; span=(2, 4), match='ab'>\n",
      "<re.Match object; span=(5, 6), match='a'>\n",
      "\n",
      "=============\n",
      "\n",
      "None\n",
      "None\n",
      "<re.Match object; span=(0, 2), match='ab'>\n",
      "\n",
      "=============\n",
      "\n",
      "ac\n",
      "3\n",
      "5\n",
      "(3, 5)\n",
      "\n",
      "=============\n",
      "\n",
      "['ABC', 'abc']\n",
      "['a  ', 'a.c', 'a\\na']\n",
      "['abc', 'abc']\n",
      "['']\n",
      "['', '']\n",
      "\n",
      "=============\n",
      "\n",
      "Hi boy, Hi girl, Hello?\n",
      "\n",
      "=============\n",
      "\n",
      "['', ' boy, ', ' girl, ', '?']\n",
      "\n",
      "=============\n",
      "\n",
      "re.compile('Hello', re.IGNORECASE)\n",
      "['HELLO', 'hello', 'Hello']\n",
      "\n",
      "=============\n",
      "\n",
      "1. ['kiwi.', 'kawi.']\n",
      "2. ['C', 'D', ' ', 'F', '1']\n",
      "3. ['a1\\n', 'a2 ']\n",
      "4. ['mp']\n",
      "5. 1~8자리 10진수에 일치하는 정규표현식 : r'\\b\\d{1,8}\\b'\n",
      "6. ['3.14', '5.9', '3.72e3', '1.02e-12']\n",
      "7. 알고리즘 \n",
      "8. ['lang=\"ko\"', 'NAVER', 'body']\n"
     ]
    }
   ],
   "source": [
    "import re\n",
    "\n",
    "# re.match(pattern, string, flags) : 문자열 앞에서부터 일치 검사\n",
    "print(re.match('abc', 'abcd')) # 앞에서부터 abc 일치\n",
    "print(re.match('abc', 'ab')) # c가 불일치\n",
    "print(re.match('abc*', 'ab')) # c는 0 이상 반복되기 때문에 ab 일치\n",
    "print(re.match('abc', 'dabc')) # d부터 시작하기 때문에 불일치\n",
    "#span=(n, m) : n번째 문자부터 m-1 문자까지 패턴과 일치\n",
    "print(\"\\n=============\\n\")\n",
    "\n",
    "# re.search(pattern, string, flags) : 문자열 일부분 매칭 검사\n",
    "print(re.search('abc', 'abcd')) # abc 일치\n",
    "print(re.search('abc', 'ab')) # c가 불일치\n",
    "print(re.search('abc*', 'ab')) # c는 0 이상 반복되기 때문에 ab 일치\n",
    "print(re.search('abc', 'dabc')) # abc 일치\n",
    "print(\"\\n=============\\n\")\n",
    "\n",
    "# re.findall(pattern, string, flags) : 패턴과 일치되는 모든 부분 검사\n",
    "print(re.findall('a', 'aa'))\n",
    "print(re.findall('a', 'bab'))\n",
    "print(re.findall('a', 'b')) # 빈 리스트 반환\n",
    "print(re.findall('aaa', 'aaaa')) # Non-overlapping\n",
    "print(re.findall('aaa', 'aaaaaa'))\n",
    "print(\"\\n=============\\n\")\n",
    "\n",
    "# re.finditer(pattern, string, flags) : findall의 return 값을 matchObj 로 바꿈\n",
    "matchObj_it = re.finditer('ab?', 'ababbac')\n",
    "for matchObj in matchObj_it : \n",
    "    print(matchObj)\n",
    "print(\"\\n=============\\n\")\n",
    "\n",
    "# re.fullmatch(pattern, string, flags) : 패턴과 문자열이 완벽하게 일치\n",
    "print(re.fullmatch('abc', 'abcd')) # d가 불일치\n",
    "print(re.fullmatch('abc', 'ab')) # c가 불일치\n",
    "print(re.fullmatch('abc*', 'ab')) # c는 0 이상 반복되기 때문에 ab 일치\n",
    "print(\"\\n=============\\n\")\n",
    "\n",
    "# re.Match object(matchObj)에는 다음의 함수가 있다\n",
    "matchObj = re.search('ab*c+', \"adcacafg\")\n",
    "print(matchObj.group()) # 일치된 문자열 반환\n",
    "print(matchObj.start()) # 일치된 문자열의 시작 위치 반환\n",
    "print(matchObj.end()) # 일치된 문자열의 끝 위치 반환\n",
    "print(matchObj.span()) # 일치된 문자열 위치 튜플 반환\n",
    "print(\"\\n=============\\n\")\n",
    "\n",
    "# flag 종류 중 주로 쓰이는 옵션\n",
    "print(re.findall('abc', 'ABC abc', re.I)) # 대소문자 구분 X\n",
    "print(re.findall('a..', 'a  a.c a\\na', re.S)) # 마침표가 개행문자와 일치\n",
    "print(re.findall('^abc', 'abc \\nabc', re.M))\n",
    "print(re.findall('^$', '\\n'))\n",
    "print(re.findall('^$', '\\n', re.M)) # M 옵션을 설정하면 ^와 $는\n",
    "                                    # 문자열 전체의 시작 / 끝이 아닌\n",
    "                                    # 행의 시작 / 끝의 일치로 바뀜\n",
    "print(\"\\n=============\\n\")\n",
    "\n",
    "# re.sub(pattern, repl, string, count, flags) : 패턴이 일치된 문자열을 repl로 바꿈\n",
    "print(re.sub('(?i)Hello', 'Hi', 'HELLO boy, hello girl, Hello?', 2))\n",
    "# 바뀐 문자열 갯수를 튜플로 받아보려면 subn 함수 사용\n",
    "print(\"\\n=============\\n\")\n",
    "\n",
    "# re.split(pattern, string, maxsplit, flags) : 패턴 기준으로 문자열 쪼개기\n",
    "print(re.split('(?i)Hello', 'HELLO boy, hello girl, Hello?'))\n",
    "print(\"\\n=============\\n\")\n",
    "\n",
    "# re.compile(pattern, flags) : 같은 정규식 패턴을 반복해서 사용할 경우 매번 계산하지 말고 미리 계산해두고 쓰자\n",
    "regexObj = re.compile('Hello', re.I)\n",
    "print(regexObj)\n",
    "print(regexObj.findall('HELLO boy, hello girl, Hello?'))\n",
    "print(\"\\n=============\\n\")\n",
    "\n",
    "# 예제\n",
    "print(\"1.\", re.findall('k.wi[.]', 'kiwi. kiwi, kawi. kawi,'))\n",
    "print(\"2.\", re.findall('[^a-z]', 'abCD F1'))\n",
    "print(\"3.\", re.findall('\\w\\d\\s', 'a1\\n 1a\\n a2 '))\n",
    "print(\"4.\", re.findall(r'\\bmp\\b', 'mp emp mpa')) # \\b 쓰려면 앞에 r 추가\n",
    "print(\"5. 1~8자리 10진수에 일치하는 정규표현식 : r'\\\\b\\d{1,8}\\\\b'\")\n",
    "print(\"6.\", re.findall('\\d+\\.\\d+(?:e-?\\d+)?', '3.14 5.9, 3.72e3 1.02e-12 1.e')) # 비 캡쳐 그룹\n",
    "print(\"7.\", re.sub('\\W?재밌는\\W?', '', ' 재밌는 알고리즘 '))\n",
    "result = re.split('<[^<>]*>',\n",
    "                  '<html> lang=\"ko\" <head> <title>NAVER</title> </head> <body> body </body> </html>')\n",
    "result = list(filter(lambda x : x != '', map(lambda x : x.strip(), result)))\n",
    "print(\"8.\", result)\n",
    "\n",
    "#운영체제의 개행문자가 뭔지 확신이 서지 않는다면 \\r?\\n으로 쓰는 것이 안전하다."
   ]
  },
  {
   "cell_type": "code",
   "execution_count": 250,
   "metadata": {},
   "outputs": [
    {
     "name": "stdout",
     "output_type": "stream",
     "text": [
      "['12', 'abc', 'f']\n"
     ]
    }
   ],
   "source": [
    "print(re.findall(r'\\b\\w+\\b(?!\\W\\d+\\b)', 'r 12 abc f'))"
   ]
  },
  {
   "cell_type": "code",
   "execution_count": 234,
   "metadata": {},
   "outputs": [
    {
     "name": "stdout",
     "output_type": "stream",
     "text": [
      "regix\n",
      "ixreg\n",
      "ixregix\n"
     ]
    }
   ],
   "source": [
    "it = re.finditer(r'(?:(\\w*)cat(?(1)\\w+|))|(?:(\\w+)cat)', \"cat staccato, cats, tomcat\")\n",
    "for i in it : \n",
    "    print(i.group())"
   ]
  },
  {
   "cell_type": "code",
   "execution_count": 254,
   "metadata": {},
   "outputs": [
    {
     "name": "stdout",
     "output_type": "stream",
     "text": [
      "안녕하세요\n",
      "하이\n",
      "안녕하세요\n",
      "요호\n",
      "\n"
     ]
    }
   ],
   "source": [
    "st = \"\"\"안녕하세요\n",
    "하이\n",
    "안녕하세요\n",
    "안녕하세요\n",
    "요호\n",
    "\"\"\"\n",
    "print(re.sub(r'^(.*)(?:(?:\\r?\\n|\\r)\\1)+$', r'\\1', st, flags = re.MULTILINE))"
   ]
  },
  {
   "cell_type": "code",
   "execution_count": null,
   "metadata": {},
   "outputs": [],
   "source": [
    "pattern, repl, string, count, flags"
   ]
  }
 ],
 "metadata": {
  "kernelspec": {
   "display_name": "Python 3",
   "language": "python",
   "name": "python3"
  },
  "language_info": {
   "codemirror_mode": {
    "name": "ipython",
    "version": 3
   },
   "file_extension": ".py",
   "mimetype": "text/x-python",
   "name": "python",
   "nbconvert_exporter": "python",
   "pygments_lexer": "ipython3",
   "version": "3.8.3"
  }
 },
 "nbformat": 4,
 "nbformat_minor": 4
}
