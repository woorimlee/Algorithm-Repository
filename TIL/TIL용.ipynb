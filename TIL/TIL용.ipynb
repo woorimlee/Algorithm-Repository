{
  "nbformat": 4,
  "nbformat_minor": 0,
  "metadata": {
    "colab": {
      "name": "TIL용.ipynb",
      "provenance": [],
      "collapsed_sections": [],
      "toc_visible": true,
      "authorship_tag": "ABX9TyNGy6Je4Tfbd/AWSDaeJKtP",
      "include_colab_link": true
    },
    "kernelspec": {
      "name": "python3",
      "display_name": "Python 3"
    }
  },
  "cells": [
    {
      "cell_type": "markdown",
      "metadata": {
        "id": "view-in-github",
        "colab_type": "text"
      },
      "source": [
        "<a href=\"https://colab.research.google.com/github/woorimlee/Algorithm-Repository/blob/master/TIL/TIL%EC%9A%A9.ipynb\" target=\"_parent\"><img src=\"https://colab.research.google.com/assets/colab-badge.svg\" alt=\"Open In Colab\"/></a>"
      ]
    },
    {
      "cell_type": "markdown",
      "metadata": {
        "id": "ms6ynymeI8rX"
      },
      "source": [
        "- - -\n",
        "2020.12.07 \n",
        "## OS 개론 \n",
        "\n",
        "### OS 역할 \n",
        "1. 시스템 자원(System Resource) 관리자\n",
        "2. 사용자와 컴퓨터간의 커뮤니케이션 지원\n",
        "3. 컴퓨터 하드웨어와 프로그램을 제어\n",
        "\n",
        "### Syscall & API\n",
        "* 응용 프로그램을 위한 인터페이스를 제공. API(Application Programming Interface)\n",
        "    * 보통은 library 형태로 제공. (printf같은 함수를 사용하기 위한 stdio)\n",
        "* syscall : 시스템콜은 운영체제가 하드웨어의 각 기능을 사용할 수 있도록 제공하는 명령어. API 내부에서 실행되는 경우가 대부분\n",
        "    * POSIX API(시스템콜 정의 대표 예, UNIX 계열), Windows API"
      ]
    },
    {
      "cell_type": "markdown",
      "metadata": {
        "id": "T-RQ3WDNPtua"
      },
      "source": [
        "- - -\n",
        "2020.12.08\n",
        "### 운영체제 구조\n",
        "* CPU Protection Rings\n",
        "    * 함부로 응용 프로그램이 전체 컴퓨터 시스템을 망치지 못하도록 하기 위해 등장한 개념.\n",
        "    * 인텔 CPU 기준 네 가지 모드(Ring)을 지원. Kernel 영역부터 Device drivers를 지나 Applications 영역까지 네 개의 영역 중 보통 Ring 0인 Kerner mode와 Ring 3인 User mode를 대표적으로 이해하면 된다.\n",
        "    * kernel mode : 메모리, 디스크, 네트워크 자원 등 커널 영역의 자원을 쓰기 위한 level\n",
        "    * user mode : 응용 프로그램 단계에서 시스템 자원을 쓰기 위해 syscall을 호출하기 위한 level\n",
        "\n",
        "\n",
        "### 프로세스 스케줄링 \n",
        "1. 배치 처리 시스템 : 단일 CPU, FIFO 구조\n",
        "2. 시분할 시스템 : 다중 사용자 지원을 위해 Time Slice로 각 프로세스 분할 할당\n",
        "    * 멀티 태스킹 : 단일 CPU에서 여러 프로그램이 동시에 실행되는 것처럼 보이도록 만드는 개념\n",
        "3. 멀티 프로그래밍 : 최대한 CUP를 많이 활용할 수 있도록 CPU 할당\n",
        "    * 멀티 프로세싱 : 다중 CPU를 이용해 JOB 여러 개를 동시에 분할 처리\n",
        "* 응용 프로그램 입장에선 I/O 작업 등의 이유로 온전히 CPU를 이용하지 못함. 따라서 멀티 프로세싱, 시분할 시스템 등이 도입되어야 함.\n",
        "    * 궁극적인 목적은 여러 응용 프로그램이 동시에 실행되거나 실행되는 것처럼 보이게 하는것, CPU를 쉬지 않게 응용 프로그램을 배치하여 응답 시간, 반환 시간을 단축하는 것, 다중 사용자가 프로그램을 동시에 실행할 수 잇는 것."
      ]
    },
    {
      "cell_type": "markdown",
      "metadata": {
        "id": "5UugBTN3wkvH"
      },
      "source": [
        "- - -\r\n",
        "2020.12.09\r\n",
        "### 스케줄링 기법\r\n",
        "1. FIFO : FCFS. 기존의 배치시스템에서 Queue를 이용해 사용했었음.\r\n",
        "2. SJF : 최단 작업 우선 스케줄러. \r\n",
        "3. Priority-Based : 두 종류가 있음.\r\n",
        "    * 정적 우선순위 : 프로세스마다 우선순위를 미리 지정\r\n",
        "    * 동적 우선순위 : 스케줄러가 상황에 따라 우선순위를 동적으로 변경\r\n",
        "4. RR : Round Robin. FIFO + Time Slice. \r\n",
        "\r\n",
        "### 프로세스 상태와 스케줄링\r\n",
        "* 멀티 프로그래밍과 Wait\r\n",
        "    * 멀티 프로그래밍 : CPU 활용도를 극대화하는 스케줄링 알고리즘.\r\n",
        "    * Wait : 간단히 저장매체로부터 파일 읽기를 기다리는 시간으로 가정.\r\n",
        "    * 아래 사진에서 Combined는 스케줄러가 할 일.\r\n",
        "\r\n",
        "* 프로세스 상태 : \r\n",
        "    * running state : 현재 CPU에서 실행 상태\r\n",
        "    * ready state : ready 상태로 CPU 할당을 기다리는 실행 가능한 상태\r\n",
        "    * block(wait) state : 특정 이벤트, I/O 결과를 대기하는 상태"
      ]
    },
    {
      "cell_type": "code",
      "metadata": {
        "id": "J3c3Ac1zP47Q"
      },
      "source": [
        ""
      ],
      "execution_count": null,
      "outputs": []
    }
  ]
}