{
  "nbformat": 4,
  "nbformat_minor": 0,
  "metadata": {
    "colab": {
      "name": "CS.ipynb",
      "provenance": [],
      "collapsed_sections": [],
      "authorship_tag": "ABX9TyOTTo3Uv5wK0Zh2BIFIHPk5",
      "include_colab_link": true
    },
    "kernelspec": {
      "name": "python3",
      "display_name": "Python 3"
    }
  },
  "cells": [
    {
      "cell_type": "markdown",
      "metadata": {
        "id": "view-in-github",
        "colab_type": "text"
      },
      "source": [
        "<a href=\"https://colab.research.google.com/github/woorimlee/Algorithm-Repository/blob/master/TIL/CS.ipynb\" target=\"_parent\"><img src=\"https://colab.research.google.com/assets/colab-badge.svg\" alt=\"Open In Colab\"/></a>"
      ]
    },
    {
      "cell_type": "markdown",
      "metadata": {
        "id": "bKPYVkfdSuvh"
      },
      "source": [
        "- - -\r\n",
        "## CS\r\n",
        "* 21.01.18 : 네트워크 개요, 물리 계층 신호 전송 규격\r\n",
        "\r\n",
        "* 21.01.19 : 물리 계층 UTP, 허브 CSMA/CD, 단위와 성능(Bandwidth, Throughput, BackPlane, CPS, CC, TPS), 데이터링크 계층 (MAC, LLC, 이더넷, Framing, 회선 제어, 흐름 제어, 오류 제어, 스위치, ARP)\r\n",
        "\r\n",
        "* 21.01.20 : Looping, STP, VLAN, 네트워크 계층\r\n",
        "    * 네트워크 3 계층 : IP, IP 주소 클래스, 서브넷 마스크, 라우터, 라우팅 정적 할당\r\n",
        "\r\n",
        "* 21.01.21 : ICMP, DHCP, 동적 라우팅(EGP, IGP)\r\n",
        "\r\n",
        "* 21.01.22 : NAT, 전송 계층, 전송 계층을 이용한 프로토콜, 어플리케이션 계층\r\n",
        "    * NAT : 공인 IP, 사설 IP, Static NAT, Dynamic NAT, PAT(Port Address Translation), Port Forwarding, Hairpin Nat\r\n",
        "    * 전송 계층 : TCP(타이머, 흐름제어, 혼잡제어), UDP\r\n",
        "    * 전송 계층을 이용한 프로토콜 : TELNET(23, NVT, Negotiation), SSH(22, 인증, 암호화, 무결성, 압축)\r\n",
        "    * 애플리케이션 계층 : DNS(local dns server, DNS 계층, 반복적 / 재귀적 쿼리, Resource Records(DNS records)와 Type, 쿼리와 응답, Hosts.txt, cache table)\r\n",
        "\r\n",
        "* 21.01.25 : HTTP, SSL & TLS, 메일 서비스\r\n",
        "    * HTTP : 80, Start Line, Status Code (2** Success, 3** Redirection, 4** Client Error, 5** Server Error), Cookie, Session\r\n",
        "    * SSL & TLS : HTTP over TLS, TLS Stack(HandShake, Change Cipher Spec, Alert, Record, SNI)\r\n",
        "    * 메일 서비스 (SMPT 송수신, POP3 열람, IMAP4 열람, MTA, MUA, MDA, MRA)"
      ]
    },
    {
      "cell_type": "markdown",
      "metadata": {
        "id": "j0c4QIoyhkRH"
      },
      "source": [
        "- - -\r\n",
        "## 알고리즘\r\n",
        "* "
      ]
    },
    {
      "cell_type": "markdown",
      "metadata": {
        "id": "cy61aDrdaAQ1"
      },
      "source": [
        ""
      ]
    }
  ]
}