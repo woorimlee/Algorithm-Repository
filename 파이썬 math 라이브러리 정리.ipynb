{
 "cells": [
  {
   "cell_type": "code",
   "execution_count": 1,
   "metadata": {
    "scrolled": true
   },
   "outputs": [
    {
     "name": "stdout",
     "output_type": "stream",
     "text": [
      "3.141592653589793\n",
      "2.718281828459045\n",
      "123.46\n",
      "3400\n",
      "4\n",
      "-4 -3\n",
      "120\n",
      "57.29577951308232\n",
      "1.0000736613927508\n",
      "1.0\n",
      "1.0\n",
      "1.633123935319537e+16\n",
      "내장함수 pow : 16 0.25\n",
      "math 함수 pow : 16.0 0.25\n",
      "2.0\n",
      "2.9999999999999996\n"
     ]
    }
   ],
   "source": [
    "import math\n",
    "\n",
    "#원주율\n",
    "pi = math.pi\n",
    "print(pi)\n",
    "\n",
    "#자연 상수\n",
    "e = math.e\n",
    "print(e)\n",
    "\n",
    "#반올림\n",
    "print(round(123.456, 2))\n",
    "print(round(3353, -2))\n",
    "\n",
    "\n",
    "#올림\n",
    "print(math.ceil(pi))\n",
    "\n",
    "#내림. \n",
    "#floor : 음수의 경우 -1로 바꿈\n",
    "#trunc : 음수의 경우 0으로 바꿈\n",
    "print(math.floor(-3.14), math.trunc(-3.14))\n",
    "\n",
    "#팩토리얼\n",
    "print(math.factorial(5))\n",
    "\n",
    "#degrees() : 라디안을 각도로\n",
    "print(math.degrees(1))\n",
    "\n",
    "#radians() : 각도를 라디안으로\n",
    "print(math.radians(57.3))\n",
    "\n",
    "#sin, cos, tan : 라디안을 넘겨 삼각함수 계산\n",
    "print(math.sin(math.radians(90)))\n",
    "print(math.cos(math.radians(0)))\n",
    "print(math.tan(math.radians(90)))\n",
    "\n",
    "#pow : 제곱\n",
    "print(\"내장함수 pow :\", pow(4, 2), pow(4,-1))\n",
    "print(\"math 함수 pow :\", math.pow(4,2), math.pow(4, -1))\n",
    "\n",
    "#sqrt : 제곱근\n",
    "print(math.sqrt(4))\n",
    "\n",
    "#log(값, 밑수) : 첫번째로 넘긴 값의 로그를 구한다.\n",
    "print(math.log(1000, 10))"
   ]
  }
 ],
 "metadata": {
  "kernelspec": {
   "display_name": "Python 3",
   "language": "python",
   "name": "python3"
  },
  "language_info": {
   "codemirror_mode": {
    "name": "ipython",
    "version": 3
   },
   "file_extension": ".py",
   "mimetype": "text/x-python",
   "name": "python",
   "nbconvert_exporter": "python",
   "pygments_lexer": "ipython3",
   "version": "3.7.3"
  }
 },
 "nbformat": 4,
 "nbformat_minor": 2
}
