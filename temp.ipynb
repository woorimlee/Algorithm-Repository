{
 "cells": [
  {
   "cell_type": "code",
   "execution_count": 95,
   "metadata": {
    "scrolled": true
   },
   "outputs": [
    {
     "name": "stdout",
     "output_type": "stream",
     "text": [
      "<re.Match object; span=(0, 3), match='abc'>\n",
      "None\n",
      "<re.Match object; span=(0, 2), match='ab'>\n",
      "None\n",
      "\n",
      "=============\n",
      "\n",
      "<re.Match object; span=(0, 3), match='abc'>\n",
      "None\n",
      "<re.Match object; span=(0, 2), match='ab'>\n",
      "<re.Match object; span=(1, 4), match='abc'>\n",
      "\n",
      "=============\n",
      "\n",
      "['a', 'a']\n",
      "['a']\n",
      "[]\n",
      "['aaa']\n",
      "['aaa', 'aaa']\n",
      "\n",
      "=============\n",
      "\n",
      "<re.Match object; span=(0, 2), match='ab'>\n",
      "<re.Match object; span=(2, 4), match='ab'>\n",
      "<re.Match object; span=(5, 6), match='a'>\n",
      "\n",
      "=============\n",
      "\n",
      "None\n",
      "None\n",
      "<re.Match object; span=(0, 2), match='ab'>\n",
      "\n",
      "=============\n",
      "\n",
      "ac\n",
      "3\n",
      "5\n",
      "(3, 5)\n",
      "\n",
      "=============\n",
      "\n",
      "['ABC', 'abc']\n",
      "['a  ', 'a.c', 'a\\na']\n",
      "['abc', 'abc']\n",
      "['']\n",
      "['', '']\n",
      "\n",
      "=============\n",
      "\n",
      "1.  ['kiwi.', 'kawi.']\n",
      "2.  ['C', 'D', ' ', 'F', '1']\n",
      "3.  ['a1\\n', 'a2 ']\n",
      "4.  ['mp']\n",
      "1.  ['kiwi.', 'kawi.']\n",
      "1.  ['kiwi.', 'kawi.']\n",
      "1.  ['kiwi.', 'kawi.']\n",
      "1.  ['kiwi.', 'kawi.']\n"
     ]
    }
   ],
   "source": [
    "import re\n",
    "\n",
    "# re.match(pattern, string, flags) : 문자열 앞에서부터 일치 검사\n",
    "print(re.match('abc', 'abcd')) # 앞에서부터 abc 일치\n",
    "print(re.match('abc', 'ab')) # c가 불일치\n",
    "print(re.match('abc*', 'ab')) # c는 0 이상 반복되기 때문에 ab 일치\n",
    "print(re.match('abc', 'dabc')) # d부터 시작하기 때문에 불일치\n",
    "#span=(n, m) : n번째 문자부터 m-1 문자까지 패턴과 일치\n",
    "print(\"\\n=============\\n\")\n",
    "\n",
    "# re.search(pattern, string, flags) : 문자열 일부분 매칭 검사\n",
    "print(re.search('abc', 'abcd')) # abc 일치\n",
    "print(re.search('abc', 'ab')) # c가 불일치\n",
    "print(re.search('abc*', 'ab')) # c는 0 이상 반복되기 때문에 ab 일치\n",
    "print(re.search('abc', 'dabc')) # abc 일치\n",
    "print(\"\\n=============\\n\")\n",
    "\n",
    "# re.findall(pattern, string, flags) : 패턴과 일치되는 모든 부분 검사\n",
    "print(re.findall('a', 'aa'))\n",
    "print(re.findall('a', 'bab'))\n",
    "print(re.findall('a', 'b')) # 빈 리스트 반환\n",
    "print(re.findall('aaa', 'aaaa')) # Non-overlapping\n",
    "print(re.findall('aaa', 'aaaaaa'))\n",
    "print(\"\\n=============\\n\")\n",
    "\n",
    "# re.finditer(pattern, string, flags) : findall의 return 값을 matchObj 로 바꿈\n",
    "matchObj_it = re.finditer('ab?', 'ababbac')\n",
    "for matchObj in matchObj_it : \n",
    "    print(matchObj)\n",
    "print(\"\\n=============\\n\")\n",
    "\n",
    "# re.fullmatch(pattern, string, flags) : 패턴과 문자열이 완벽하게 일치\n",
    "print(re.fullmatch('abc', 'abcd')) # d가 불일치\n",
    "print(re.fullmatch('abc', 'ab')) # c가 불일치\n",
    "print(re.fullmatch('abc*', 'ab')) # c는 0 이상 반복되기 때문에 ab 일치\n",
    "print(\"\\n=============\\n\")\n",
    "\n",
    "# re.Match object(matchObj)에는 다음의 함수가 있다\n",
    "matchObj = re.search('ab*c+', \"adcacafg\")\n",
    "print(matchObj.group()) # 일치된 문자열 반환\n",
    "print(matchObj.start()) # 일치된 문자열의 시작 위치 반환\n",
    "print(matchObj.end()) # 일치된 문자열의 끝 위치 반환\n",
    "print(matchObj.span()) # 일치된 문자열 위치 튜플 반환\n",
    "print(\"\\n=============\\n\")\n",
    "\n",
    "\n",
    "# flag 종류 중 주로 쓰이는 옵션\n",
    "print(re.findall('abc', 'ABC abc', re.I)) # 대소문자 구분 X\n",
    "print(re.findall('a..', 'a  a.c a\\na', re.S)) # 마침표가 개행문자와 일치\n",
    "print(re.findall('^abc', 'abc \\nabc', re.M))\n",
    "print(re.findall('^$', '\\n'))\n",
    "print(re.findall('^$', '\\n', re.M)) # M 옵션을 설정하면 ^와 $는\n",
    "                                    # 문자열 전체의 시작 / 끝이 아닌\n",
    "                                    # 행의 시작 / 끝의 일치로 바뀜\n",
    "print(\"\\n=============\\n\")\n",
    "\n",
    "# 예제\n",
    "print(\"1. \", re.findall('k.wi[.]', 'kiwi. kiwi, kawi. kawi,'))\n",
    "print(\"2. \", re.findall('[^a-z]', 'abCD F1'))\n",
    "print(\"3. \", re.findall('\\w\\d\\s', 'a1\\n 1a\\n a2 '))\n",
    "print(\"4. \", re.findall(r'\\bmp\\b', 'mp emp mpa')) # \\b 쓰려면 앞에 r 추가\n",
    "print(\"1. \", re.findall('k.wi[.]', 'kiwi. kiwi, kawi. kawi,'))\n",
    "print(\"1. \", re.findall('k.wi[.]', 'kiwi. kiwi, kawi. kawi,'))\n",
    "print(\"1. \", re.findall('k.wi[.]', 'kiwi. kiwi, kawi. kawi,'))\n",
    "print(\"1. \", re.findall('k.wi[.]', 'kiwi. kiwi, kawi. kawi,'))"
   ]
  },
  {
   "cell_type": "code",
   "execution_count": 24,
   "metadata": {},
   "outputs": [
    {
     "name": "stdout",
     "output_type": "stream",
     "text": [
      "(0, 4)\n"
     ]
    }
   ],
   "source": [
    "import re\n",
    " \n",
    "pattern = '^this'\n",
    "text = '''this is a book.\n",
    "this is a toy.'''\n",
    " \n",
    "r = re.compile(pattern, re.MULTILINE)\n",
    "matches = r.finditer(text)\n",
    " \n",
    "for match in matches:\n",
    "    print(match.span())"
   ]
  },
  {
   "cell_type": "code",
   "execution_count": 98,
   "metadata": {
    "scrolled": true
   },
   "outputs": [
    {
     "name": "stdout",
     "output_type": "stream",
     "text": [
      "<p> Lorem ipsum... is boring. </p>\n",
      "# ---------------------------------------------------------------- #\n",
      "<p> part 1 </p> part 2 </p>\n",
      "<p> part 3 </p> part 4 </p>\n",
      "# ---------------------------------------------------------------- #\n",
      "<p> part 1 </p>\n"
     ]
    }
   ],
   "source": [
    "# 1번 예시\n",
    "matchObj = re.search('<p>.*</p>', '<p> Lorem ipsum... is boring. </p>')\n",
    "print(matchObj.group())\n",
    "\n",
    "print('# ---------------------------------------------------------------- #')\n",
    "\n",
    "# 2번 예시\n",
    "matchObj = re.search('<p>.*</p>', '''\n",
    "<p> part 1 </p> part 2 </p>\n",
    "<p> part 3 </p> part 4 </p>\n",
    "''', re.DOTALL)\n",
    "print(matchObj.group())\n",
    "\n",
    "print('# ---------------------------------------------------------------- #')\n",
    "\n",
    "# 3번 예시\n",
    "matchObj = re.search('<p>.*?</p>', '''\n",
    "<p> part 1 </p> part 2 </p>\n",
    "<p> part 3 </p> part 4 </p>\n",
    "''', re.DOTALL)\n",
    "print(matchObj.group())"
   ]
  },
  {
   "cell_type": "code",
   "execution_count": null,
   "metadata": {},
   "outputs": [],
   "source": []
  }
 ],
 "metadata": {
  "kernelspec": {
   "display_name": "Python 3",
   "language": "python",
   "name": "python3"
  },
  "language_info": {
   "codemirror_mode": {
    "name": "ipython",
    "version": 3
   },
   "file_extension": ".py",
   "mimetype": "text/x-python",
   "name": "python",
   "nbconvert_exporter": "python",
   "pygments_lexer": "ipython3",
   "version": "3.8.3"
  }
 },
 "nbformat": 4,
 "nbformat_minor": 4
}
