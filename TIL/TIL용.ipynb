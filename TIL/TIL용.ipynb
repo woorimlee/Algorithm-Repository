{
  "nbformat": 4,
  "nbformat_minor": 0,
  "metadata": {
    "colab": {
      "name": "TIL용.ipynb",
      "provenance": [],
      "collapsed_sections": [],
      "authorship_tag": "ABX9TyMsCtyy9ylcYzevK/6Y/s9T",
      "include_colab_link": true
    },
    "kernelspec": {
      "name": "python3",
      "display_name": "Python 3"
    }
  },
  "cells": [
    {
      "cell_type": "markdown",
      "metadata": {
        "id": "view-in-github",
        "colab_type": "text"
      },
      "source": [
        "<a href=\"https://colab.research.google.com/github/woorimlee/Algorithm-Repository/blob/master/TIL/TIL%EC%9A%A9.ipynb\" target=\"_parent\"><img src=\"https://colab.research.google.com/assets/colab-badge.svg\" alt=\"Open In Colab\"/></a>"
      ]
    },
    {
      "cell_type": "markdown",
      "metadata": {
        "id": "bKPYVkfdSuvh"
      },
      "source": [
        "- - -\r\n",
        "## CS\r\n",
        "* 21.01.18 : 네트워크 개요, 물리 계층 신호 전송 규격\r\n",
        "\r\n"
      ]
    },
    {
      "cell_type": "markdown",
      "metadata": {
        "id": "j0c4QIoyhkRH"
      },
      "source": [
        "- - -\r\n",
        "## 알고리즘\r\n",
        "* "
      ]
    },
    {
      "cell_type": "markdown",
      "metadata": {
        "id": "M8RF0Tobhdd2"
      },
      "source": [
        "- - -\r\n",
        "## 경제 신문 읽기\r\n",
        "* "
      ]
    },
    {
      "cell_type": "markdown",
      "metadata": {
        "id": "KLmFZsHnhNwm"
      },
      "source": [
        "- - -\r\n",
        "## 미라클레터\r\n",
        "* "
      ]
    },
    {
      "cell_type": "markdown",
      "metadata": {
        "id": "Je8Na-73hivP"
      },
      "source": [
        "- - -\r\n",
        "## 야나두\r\n",
        "* "
      ]
    }
  ]
}