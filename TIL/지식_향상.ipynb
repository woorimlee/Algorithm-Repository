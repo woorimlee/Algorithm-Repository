{
  "nbformat": 4,
  "nbformat_minor": 0,
  "metadata": {
    "colab": {
      "name": "지식 향상.ipynb",
      "provenance": [],
      "collapsed_sections": [],
      "authorship_tag": "ABX9TyNETcqJ6EKrRaubzccnsyaG",
      "include_colab_link": true
    },
    "kernelspec": {
      "name": "python3",
      "display_name": "Python 3"
    }
  },
  "cells": [
    {
      "cell_type": "markdown",
      "metadata": {
        "id": "view-in-github",
        "colab_type": "text"
      },
      "source": [
        "<a href=\"https://colab.research.google.com/github/woorimlee/Algorithm-Repository/blob/master/TIL/%EC%A7%80%EC%8B%9D_%ED%96%A5%EC%83%81.ipynb\" target=\"_parent\"><img src=\"https://colab.research.google.com/assets/colab-badge.svg\" alt=\"Open In Colab\"/></a>"
      ]
    },
    {
      "cell_type": "markdown",
      "metadata": {
        "id": "WzCV9INbZzOc"
      },
      "source": [
        "- - -\r\n",
        "## 미라클레터\r\n",
        "* 21.01.18 : CES (ESG 테마, FPGA)\r\n",
        "\r\n",
        "* 21.01.19 : CES (홈코노미, CTA 기술 전망)\r\n",
        "\r\n",
        "* 21.01.20 : CES (산업을 뛰어넘는 혁신(GM, 보쉬, 모빌아이와 인텔, 버라이즌), 하반기 빅테크 규제 예상)\r\n",
        "\r\n",
        "* 21.01.21 : CES (공룡들의 혁신 법, 월마트의 속도, 인텔의 교체, AMD의 집중, MS의 공동체)\r\n",
        "\r\n",
        "* 21.01.22 : CES 정리 (21년 CES 트렌드 세 가지, 에너지 전환, 인공지능, 로봇)\r\n",
        "\r\n",
        "* 21.01.25 : 급변하는 자동차 산업 (거대 IT 회사 모두 도전, 구독 경제, 픽업 트럭 시장 변화)\r\n",
        "\r\n",
        "* 21.01.26 : 2021년 경제의 방향 (지금 경제 큰 걱정은 없어! 경제 시장 과열 X, 주식 시장 과열 O, 심상치 않은 반도체 시장)\r\n",
        "\r\n",
        "* 21.01.27 : 실리콘밸리에서 벌어지고 있는 1인치 게임 (애플의 1인치 디테일, 에너지 전환을 위한 1인치, 제임스 메디슨의 1인치, 르네상스 테크놀로지의 1인치)\r\n",
        "\r\n",
        "\r\n",
        "* 21.01.30 : 미친 주식, 미친 가격 (게임스톱의 밸류에이션, 아마존, 테슬라의 밸류에이션(실력!), 스타트업의 밸류에이션(FOMO))"
      ]
    },
    {
      "cell_type": "markdown",
      "metadata": {
        "id": "gchPf4KXZ139"
      },
      "source": [
        "- - -\r\n",
        "## 영어\r\n",
        "* 21.01.18 : had better(<-> should <-> must(have to)), would like to(<-> want to <-> like to)\r\n",
        "\r\n",
        "* 21.01.19 : would rather, would rather not, would rather A than B (A, B : 동사 원형)\r\n",
        "\r\n",
        "* 21.01.20 : gotta, have got to \r\n",
        "\r\n",
        "* 21.01.22 : will be able to (will can의 사용법), was(were) able to (실제로 한) 할 수 있었어 <-> Could (실제로 안 한) 할 수 있었어\r\n",
        "\r\n",
        "* 21.01.25 : need to (의무 다른 것과 비교해보기, must(have to), should, had better, gotta)\r\n",
        "\r\n",
        "* 21.01.26 : used to, got used to(be used to)\r\n",
        "\r\n",
        "* 21.01.27 : be supposed to \r\n",
        "\r\n",
        "* 21.01.28 : 의무, 원함, 선택, 습관, 익숙함 복습"
      ]
    },
    {
      "cell_type": "markdown",
      "metadata": {
        "id": "WVNhmR5kZKFX"
      },
      "source": [
        "- - -\r\n",
        "## 경제 신문 읽기\r\n",
        "* "
      ]
    },
    {
      "cell_type": "markdown",
      "metadata": {
        "id": "I9rZsDcfZ7zX"
      },
      "source": [
        "- - -\r\n",
        "## 책 읽기"
      ]
    },
    {
      "cell_type": "markdown",
      "metadata": {
        "id": "ySDdP58HZ8jr"
      },
      "source": [
        "### 맨큐의 경제학\r\n",
        "* 21.01.18 : 생계비의 측정(거시 경제의 기본이 되는 데이터)\r\n",
        "    * 소비자 물가 지수(CPI), 명목 물가, 실질 물가\r\n",
        "\r\n",
        "\r\n",
        "* 21.01.19 : 거시경제 생산과 성장\r\n",
        "    * 생산성에 결정을 주는 요인 (물적 자본, 인적 자본, 자연 자원, 기술 혁신)\r\n",
        "    * 기술 혁신이 생산성에 가장 큰 영향을 미침\r\n",
        "    * 수확 체감 (선진국 생산성과 후진국 생산성 향상의 차이)\r\n",
        "    * 인구 증가에 따른 경제 성장 변화(보통 안좋게 보지만 맨큐의 경제학에선 긍정, 부정적 측면이 모두 존재한다고 판단)\r\n",
        "\r\n",
        "\r\n",
        "* 21.01.20 : 저축과 투자, 금용 제도\r\n",
        "    * GDP를 이용한 투자에 대한 설명 : \r\n",
        "        * 총 생산 - 총 지출 = 0\r\n",
        "        * 총 지출(소비, 기업 투자, 정부의 지출, 순 수출)\r\n",
        "        * 투자 : 총 생산 - (가게 소비 + 정부 지출) = 기업 투자\r\n",
        "        * 저축 : 총 소득 - (소비 + 정부 지출) = 저축\r\n",
        "        * 투자는 곧 저축\r\n",
        "        * **정부의 지출 정책** : 최초의 정부 지출은 경제를 활성화시킬 수 있다. (소비가 상승하며 생산자들의 부담이 덜해짐) 다만, 정부 지출이 수입보다 크다면 재정 적자가 발생하기 때문에 정부 저축이 마이너스가되고, 결국 투자도 마이너스가 되어 장기적으로 국가에 좋지 않다.\r\n",
        "\r\n",
        "\r\n",
        "* 21.01.21 : 재무이론의 기초\r\n",
        "    * 현재가치와 미래가치 (이자율에 따라 결정되는)\r\n",
        "\r\n",
        "\r\n",
        "* 21.01.22 : 실업이 사람에게 미치는 영향(생활수준, 자존심, 장래)과 실업이 발생하는 네 가지 이유(직업 탐색, 최저임금제, 노동조합과 단체교섭, 효율 임금)\r\n",
        "\r\n",
        "\r\n",
        "* 21.01.25 : 통화제도 (화폐의 기능, 화폐로서 가치가 있는 물질, 통화 조절 방법, 미국의 금리와 주식시장)\r\n",
        "\r\n",
        "\r\n",
        "* 21.01.26 : 통화량 증가와 인플레이션 (통화량 증가 -> 화폐 공급이 늘어남 -> 가격이 떨어짐(화폐 가치가 떨어짐) -> 인플레이션, 물건 값 상승 < 화폐 가치 하락이 인플레이션에 더 영향을 많이 줌, 인플레이션의 부정적 현상 네 가지)\r\n",
        "\r\n",
        "\r\n",
        "* 21.01.28 : 개방 경제의 거시 경제학\r\n",
        "    * 개방 경제 : 나라가 두 개 이상 등장\r\n",
        "        * 재화의 이동과 자본의 이동\r\n",
        "        * 명목 환율과 실질 환율\r\n",
        "        * 구매력 평가설과 국가 수준 및 인플레이션에 따른 명목 환율의 평가 차이\r\n",
        "\r\n",
        "\r\n",
        "* 21.01.30 : 개방경제의 거시경제 이론\r\n",
        "    * 대부자금 시장과 외환 시장의 수요와 공급\r\n",
        "    * 실질 이자율과 실질 환율, 개방 경제의 균형(순자본 유출을 이용해)\r\n",
        "    * 정부 정책과 개방 경제\r\n",
        "        * 재정 적자 효과\r\n",
        "        * 무역 정책 효과\r\n",
        "    * 정치 불안과 자본 도피"
      ]
    },
    {
      "cell_type": "markdown",
      "metadata": {
        "id": "Qx_jc9FiaA8_"
      },
      "source": [
        ""
      ]
    }
  ]
}