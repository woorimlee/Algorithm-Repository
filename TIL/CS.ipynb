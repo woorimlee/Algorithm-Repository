{
  "nbformat": 4,
  "nbformat_minor": 0,
  "metadata": {
    "colab": {
      "name": "CS.ipynb",
      "provenance": [],
      "collapsed_sections": [],
      "authorship_tag": "ABX9TyNvsB+ClnOOuvEENhnjSwR6",
      "include_colab_link": true
    },
    "kernelspec": {
      "name": "python3",
      "display_name": "Python 3"
    }
  },
  "cells": [
    {
      "cell_type": "markdown",
      "metadata": {
        "id": "view-in-github",
        "colab_type": "text"
      },
      "source": [
        "<a href=\"https://colab.research.google.com/github/woorimlee/Algorithm-Repository/blob/master/TIL/CS.ipynb\" target=\"_parent\"><img src=\"https://colab.research.google.com/assets/colab-badge.svg\" alt=\"Open In Colab\"/></a>"
      ]
    },
    {
      "cell_type": "markdown",
      "metadata": {
        "id": "bKPYVkfdSuvh"
      },
      "source": [
        "- - -\r\n",
        "## CS\r\n",
        "* 21.01.18 : 네트워크 개요, 물리 계층 신호 전송 규격\r\n",
        "\r\n",
        "\r\n",
        "* 21.01.19 : 물리 계층 UTP, 허브 CSMA/CD, 단위와 성능(Bandwidth, Throughput, BackPlane, CPS, CC, TPS), 데이터링크 계층 (MAC, LLC, 이더넷, Framing, 회선 제어, 흐름 제어, 오류 제어, 스위치, ARP)\r\n",
        "\r\n",
        "\r\n",
        "* 21.01.20 : Looping, STP, VLAN, 네트워크 계층\r\n",
        "    * 네트워크 3 계층 : IP, IP 주소 클래스, 서브넷 마스크, 라우터, 라우팅 정적 할당\r\n",
        "\r\n",
        "\r\n",
        "* 21.01.21 : ICMP, DHCP, 동적 라우팅(EGP, IGP)\r\n",
        "\r\n",
        "\r\n",
        "* 21.01.22 : NAT, 전송 계층, 전송 계층을 이용한 프로토콜, 어플리케이션 계층\r\n",
        "    * NAT : 공인 IP, 사설 IP, Static NAT, Dynamic NAT, PAT(Port Address Translation), Port Forwarding, Hairpin Nat\r\n",
        "    * 전송 계층 : TCP(타이머, 흐름제어, 혼잡제어), UDP\r\n",
        "    * 전송 계층을 이용한 프로토콜 : TELNET(23, NVT, Negotiation), SSH(22, 인증, 암호화, 무결성, 압축)\r\n",
        "    * 애플리케이션 계층 : DNS(local dns server, DNS 계층, 반복적 / 재귀적 쿼리, Resource Records(DNS records)와 Type, 쿼리와 응답, Hosts.txt, cache table)\r\n",
        "\r\n",
        "\r\n",
        "* 21.01.25 : HTTP, SSL & TLS, 메일 서비스, Working set, PFF, 클리닝 정책, 프로그램 구조\r\n",
        "    * HTTP : 80, Start Line, Status Code (2xx Success, 3xx Redirection, 4xx Client Error, 5xx Server Error), Cookie, Session\r\n",
        "    * SSL & TLS : HTTP over TLS, TLS Stack(HandShake, Change Cipher Spec, Alert, Record, SNI)\r\n",
        "    * 메일 서비스 (SMPT 송수신, POP3 열람, IMAP4 열람, MTA, MUA, MDA, MRA)\r\n",
        "    * Working set : 지역성을 이용한 페이지 부재 최소화, 윈도우 사이즈\r\n",
        "    * PFF : Working set을 페이지 부재의 간격에 근거하여 결정\r\n",
        "    * Cleaning Strategy : 적재중 내용이 변경된 페이지를 언제 디스크에 기록시킬 것인가? (요구 클리닝, 선 클리닝)\r\n",
        "    * 프로그램 구조 : 모든 페이지를 번갈아가며 참조하는 배열과 한 페이지를 모두 참조한 후 다음 페이지로 넘어가는 배열의 차이\r\n",
        "\r\n",
        "\r\n",
        "* 21.01.26 : \r\n",
        "    * 데이터 아키텍처 : 엔터프라이즈 정보 아키텍처, 비즈니스 아키텍처(사명 -> 목표 ->전략 -> CSF, KPI -> 정보 요구), 정보 요구의 우선순위, 업무 기능, 엔티티 유형, 4PMs, 데이터 친화성, 데이터 분산\r\n",
        "    * 쉘 스크립트 : Tab(명령 자동 완성), Ctrl + a (라인 맨 앞으로), Ctrl + e(라인 맨 뒤로), Ctrl + r(History 검색), cd, ls, df, mkdir, rmdir, mount, stat\r\n",
        "\r\n",
        "\r\n",
        "* 21.01.27 : \r\n",
        "    * 데이터 모델링 : Notation(개체 관계, 객체 관계), 엔티티, 관계, 속성, 식별자\r\n",
        "    * 배쉬 쉘 스크립트 : touch, cat, head, tail, cp, mv, rename, rm, less, ln, paste, dd, tar\r\n",
        "\r\n",
        "\r\n",
        "* 21.01.28 : \r\n",
        "    * 데이터 모델링 : 비즈니스 규칙, 속성값 정의, 개념, 논리, 물리 데이터모델 (관계비, 선택성, 볼륨, 데이터 보안성), 정규화, 데이터 모델 검증 시스템\r\n",
        "    * 배쉬 쉘 스크립트 : \r\n",
        "        * 프로세스 관련 : ps, pstree, top, nohup, kill\r\n",
        "        * 네트워크 관련 : ifconfig, ip, netstat, ss, iptables, ufw, ping, wget, curl, route\r\n",
        "\r\n",
        "\r\n",
        "* 21.01.29 : \r\n",
        "    * 데이터베이스 설계 : \r\n",
        "        * 데이터 모델 to 데이터베이스\r\n",
        "            * 관계 모델 V2, ANSI SPARC 스키마\r\n",
        "        * DB 성능\r\n",
        "            * 인덱스, 해싱, 클러스터링, 인터리빙 데이터 설계 \r\n",
        "    * 배쉬 쉘 스크립트 : redirection, echo, chmod, chown, sudo, who, date, seq, more, watch, crontab\r\n",
        "    * OS : 파일 시스템\r\n",
        "        * 파일 저장 방식, 논리적 / 물리적 파일시스템 구조, 디스크 할당 테이블, 파일 접근 제어(접근 행렬)\r\n",
        "\r\n",
        "\r\n",
        "* 21.01.30 :\r\n",
        "    * DB 설계\r\n",
        "        * 역정규화 (선조인, 미로, 분할, 병합)\r\n",
        "        * 중복 데이터와 반복 데이터 그룹\r\n",
        "        * 파생 데이터와 계층 데이터\r\n",
        "    * 배쉬 셀 스크립트 : 파이프라인, 세미콜론, AND, OR\r\n",
        "        * 퀴즈 열 개 복습하기\r\n",
        "\r\n",
        "\r\n",
        "* 21.02.01 : \r\n",
        "    * OS History\r\n",
        "        * 응용 프로그램이 시스템 자원을 제어하던 방식(OS가 없었음)에서 배치 처리 시스템 등장\r\n",
        "        * 멀티 태스킹, 시분할 시스템 등장\r\n",
        "    * 배쉬 셀 스크립트 : CLI 편집기 (nano, vim)\r\n",
        "\r\n",
        "\r\n",
        "* 21.02.17 :\r\n",
        "    * 배쉬 셀 스크립트 : 쉘 스크립트 작성 흐름, 조건문(서버 이름 걸러내기)\r\n",
        "\r\n",
        "\r\n",
        "* 21.02.25 : \r\n",
        "    * 업비트 API & 텔레그램 봇 이용한 코인 정보 제공 프로그램 제작중"
      ]
    },
    {
      "cell_type": "markdown",
      "metadata": {
        "id": "j0c4QIoyhkRH"
      },
      "source": [
        "- - -\r\n",
        "## 알고리즘\r\n",
        "* "
      ]
    },
    {
      "cell_type": "markdown",
      "metadata": {
        "id": "cy61aDrdaAQ1"
      },
      "source": [
        ""
      ]
    }
  ]
}