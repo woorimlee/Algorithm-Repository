{
 "cells": [
  {
   "cell_type": "code",
   "execution_count": 4,
   "metadata": {},
   "outputs": [
    {
     "name": "stdout",
     "output_type": "stream",
     "text": [
      "380\n",
      "1 120\n",
      "2 20\n",
      "2 20\n",
      "4 0\n",
      "4\n"
     ]
    }
   ],
   "source": [
    "\"\"\"그리디가 되는 이유?\n",
    "동전이 서로 배수 관계로 이뤄져 있어서 500엔부터 1엔까지의 순서로 \n",
    "그리디하게 탐색해도 됨\"\"\"\n",
    "\n",
    "coins = [500, 100, 50, 10, 5, 1]\n",
    "pay = 1000 - int(input())\n",
    "change = 0\n",
    "\n",
    "for coin in coins :\n",
    "    if(pay == 0) :\n",
    "        break\n",
    "    change += pay//coin\n",
    "    pay %= coin\n",
    "    \n",
    "print(change)"
   ]
  }
 ],
 "metadata": {
  "kernelspec": {
   "display_name": "Python 3",
   "language": "python",
   "name": "python3"
  },
  "language_info": {
   "codemirror_mode": {
    "name": "ipython",
    "version": 3
   },
   "file_extension": ".py",
   "mimetype": "text/x-python",
   "name": "python",
   "nbconvert_exporter": "python",
   "pygments_lexer": "ipython3",
   "version": "3.7.3"
  }
 },
 "nbformat": 4,
 "nbformat_minor": 2
}
